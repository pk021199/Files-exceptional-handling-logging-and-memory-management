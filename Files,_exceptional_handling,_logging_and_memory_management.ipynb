{
  "nbformat": 4,
  "nbformat_minor": 0,
  "metadata": {
    "colab": {
      "provenance": []
    },
    "kernelspec": {
      "name": "python3",
      "display_name": "Python 3"
    },
    "language_info": {
      "name": "python"
    }
  },
  "cells": [
    {
      "cell_type": "markdown",
      "source": [
        "#Theory Questions."
      ],
      "metadata": {
        "id": "sYOpegf2qxz5"
      }
    },
    {
      "cell_type": "markdown",
      "source": [
        "1. What is the difference between interpreted and compiled languages?\n",
        " - The difference between interpreted and compiled languages lies in how their code is translated into machine code that a computer can execute. Here’s a breakdown of the theory:\n",
        "\n",
        "     **Compiled Languages**\n",
        "\n",
        "     Definition: A compiled language uses a compiler to translate the entire source code into machine code before the program runs.\n",
        "     \n",
        "     Examples: C, C++, Rust, Go\n",
        "\n",
        "     **Process:**\n",
        "    1. You write source code.\n",
        "    2. The compiler translates the entire code into an executable file.\n",
        "    3. The machine runs the executable directly.\n",
        "\n",
        "     **Pros:**\n",
        "    1. Fast execution (code is already translated).\n",
        "    2. Better performance and optimization.\n",
        "    3. Errors caught at compile-time (before execution).\n",
        "\n",
        "     **Cons:**\n",
        "    1. Slower development/debug cycle (must recompile after changes).\n",
        "    2. Less portable—compiled binaries are platform-specific.\n",
        "\n",
        "     **Interpreted Languages**\n",
        "\n",
        "     Definition: An interpreted language uses an interpreter to translate and execute the source code line by line at runtime.\n",
        "\n",
        "     Examples: Python, JavaScript, Ruby, PHP\n",
        "\n",
        "     **Process:**\n",
        "    1. You write source code.\n",
        "    2. The interpreter reads and executes the code line by line.\n",
        "\n",
        "     **Pros:**\n",
        "    1. Easier to test and debug (immediate feedback).\n",
        "    2. More portable—can run on any platform with the interpreter.\n",
        "\n",
        "     **Cons:**\n",
        "    1. Slower execution (translation happens during run time).\n",
        "    2. Runtime errors may only appear when specific code is executed."
      ],
      "metadata": {
        "id": "vIQ4iuEQq2G4"
      }
    },
    {
      "cell_type": "markdown",
      "source": [
        "2. What is exception handling in Python?\n",
        " - Exception handling in Python is a mechanism that allows you to handle runtime errors gracefully without crashing the program. It helps manage situations where errors or unexpected events occur during the execution of a program.\n",
        "\n",
        "     **Key Concepts:**\n",
        "    * Exception: An error that occurs during the execution of a program. Examples include ZeroDivisionError, ValueError, and FileNotFoundError.\n",
        "    * Try Block: The code that might raise an exception is placed inside a try block.\n",
        "    * Except Block: If an exception occurs in the try block, the corresponding except block is executed to handle the error.\n",
        "    * Else Block (optional): Runs if no exception occurs in the try block.\n",
        "    * Finally Block (optional): Executes code regardless of whether an exception occurred or not (often used for cleanup actions like closing files or releasing resources).\n",
        "    \n",
        "     **Syntax:**\n",
        "\n",
        "        try:\n",
        "\n",
        "        #risky code\n",
        "\n",
        "        except ExceptionType:\n",
        "\n",
        "        #code to handle the exception\n",
        "\n",
        "        else:\n",
        "\n",
        "        #runs if no exception\n",
        "\n",
        "        finally:\n",
        "\n",
        "        #always runs\n",
        "\n",
        "        **Benefits:**\n",
        "     1. Prevents program crashes.\n",
        "     2. Helps in debugging and maintaining code.\n",
        "     3. Allows defining alternate paths when errors occur.\n",
        "    \n",
        "     **Common Exceptions:**\n",
        "\n",
        "     ZeroDivisionError\n",
        "\n",
        "     TypeError\n",
        "\n",
        "     ValueError\n",
        "\n",
        "     IndexError\n",
        "\n",
        "     KeyError\n",
        "\n",
        "     FileNotFoundError\n",
        "\n",
        "     Exception handling improves the reliability and robustness of a Python program by ensuring that runtime errors are caught and dealt with properly."
      ],
      "metadata": {
        "id": "qR1hmrBtv_0U"
      }
    },
    {
      "cell_type": "markdown",
      "source": [
        "3. What is the purpose of the finally block in exception handling?\n",
        " - The finally block in Python is used to define a section of code that always executes, regardless of whether an exception was raised or not in the try block. Its main purpose is to perform cleanup actions or final steps that must occur after a try...except structure is completed.\n",
        "\n",
        "     **Key Points:**\n",
        "    * Always Executes: The code inside finally runs no matter what—whether an exception occurred, was handled, or not raised at all.\n",
        "    * Used for Cleanup: Often used to release external resources, such as:\n",
        "      1. Closing a file\n",
        "      2. Releasing network or database connections\n",
        "      3. Releasing locks in multithreading\n",
        "\n",
        "     **Syntax:**\n",
        "\n",
        "        try:\n",
        "\n",
        "        #code that might raise an exception\n",
        "\n",
        "        except SomeException:\n",
        "\n",
        "        #handle the exception\n",
        "\n",
        "        finally:\n",
        "\n",
        "        #code that always runs  \n",
        "\n",
        "      The finally block ensures that critical cleanup code always runs, which is especially important in managing external resources. It provides reliability and safety in your programs by guaranteeing that important tasks (like closing files or releasing memory) are not skipped."
      ],
      "metadata": {
        "id": "GGI8YA35ygsY"
      }
    },
    {
      "cell_type": "markdown",
      "source": [
        "4. What is logging in Python?\n",
        " - Logging in Python is the process of recording messages that describe events or states that occur while a program is running. It is primarily used for debugging, monitoring, and tracking the execution of software, especially in production environments.\n",
        "\n",
        "     Python provides a built-in module called logging that enables flexible and configurable logging of messages at different severity levels.\n",
        "\n",
        "     **Purpose of Logging:**\n",
        "     * Track the flow of a program\n",
        "     * Identify and debug errors\n",
        "     * Record important events (e.g., user login, file access, etc.)\n",
        "     * Monitor software behavior in production\n",
        "\n",
        "     **Key Features of Python’s logging Module:**\n",
        "     * Supports multiple levels of logging severity\n",
        "     * Allows logging to different destinations (console, file, network, etc.)\n",
        "     * Provides formatted and timestamped messages\n",
        "     * Can be configured using code or external configuration files\n",
        "\n",
        "     **Logging Levels (in increasing order of severity):**\n",
        "\n",
        "     Level\t         :                              Purpose\n",
        "\n",
        "     DEBUG\t         :                 Detailed information for debugging\n",
        "\n",
        "     INFO\t           :                 Confirmation that things are working\n",
        "\n",
        "     WARNING\t       :              An indication that something might go wrong\n",
        "\n",
        "     ERROR\t         :                 A more serious problem has occurred\n",
        "\n",
        "     CRITICAL\t       :            A very serious error; program may not continue\n",
        "\n",
        "     Logging in Python is a vital tool for maintaining, debugging, and monitoring applications. It allows developers to trace how a program is executing and diagnose problems without disrupting the program flow, unlike print() statements which are less flexible and suitable only for simple debugging tasks."
      ],
      "metadata": {
        "id": "VHE0BniQ0JSR"
      }
    },
    {
      "cell_type": "markdown",
      "source": [
        "5. What is the significance of the __del__ method in Python?\n",
        " - The __ del__ method in Python is a special method known as a destructor. It is called automatically when an object is about to be destroyed, typically when there are no more references to it. Its main purpose is to define clean-up actions that need to be taken before the object is removed from memory.\n",
        "\n",
        "     **Key Points:**\n",
        "    * Syntax:\n",
        "     def __del__(self):\n",
        "\n",
        "       #cleanup code\n",
        "     * Called Automatically: Python's garbage collector calls __del__ when an object is about to be deleted.\n",
        "     * Used for Cleanup: Often used to:\n",
        "       * Close open files\n",
        "       * Release network or database connections\n",
        "       * Free up other external resources\n",
        "\n",
        "     **Important Notes:**\n",
        "     * Unpredictable Timing: You cannot guarantee exactly when __del__ will be called, because it depends on the garbage collector.\n",
        "     * Circular References: Objects involved in circular references might delay or prevent the destructor from being called.\n",
        "     * Better Alternatives: In many cases, using context managers (with statement) or the try...finally block is more reliable for resource cleanup.\n",
        "\n",
        "     **Summary:**\n",
        "     \n",
        "     The __ del__ method is significant for defining custom cleanup behavior when an object is destroyed. However, due to its unpredictable timing and limitations, it is generally recommended to use more reliable mechanisms like context managers for managing external resources."
      ],
      "metadata": {
        "id": "P70kwLLc2hb7"
      }
    },
    {
      "cell_type": "markdown",
      "source": [
        "6. What is the difference between import and from ... import in Python?\n",
        " - In Python, both import and from ... import are used to include code from modules and packages, but they differ in how they make the imported items accessible in your code.\n",
        "\n",
        "    1. import Statement\n",
        "      * Syntax:\n",
        "\n",
        "          import module_name\n",
        "\n",
        "      * Behavior:\n",
        "         1. Imports the entire module.\n",
        "         2. You must use the module name as a prefix to access its contents.\n",
        "\n",
        "    2. from ... import Statement\n",
        "       * Syntax:\n",
        "\n",
        "          from module_name import specific_name\n",
        "       * Behavior:  \n",
        "         * Imports specific functions, classes, or variables from a module.\n",
        "         * You can use them directly, without the module name prefix.\n",
        "\n",
        "     **Summary:**\n",
        "    * Use **import** when you want to keep the module’s namespace intact (safer, avoids name conflicts).\n",
        "    * Use **from ... import** when you need only specific functions or classes and want cleaner syntax.\n",
        "      \n",
        "      In general, for large projects, import is preferred for clarity and maintainability, while from ... import is useful for convenience in small scripts.\n",
        "         "
      ],
      "metadata": {
        "id": "kcLV8MAS4gZy"
      }
    },
    {
      "cell_type": "markdown",
      "source": [
        "7. How can you handle multiple exceptions in Python?\n",
        " - In Python, handling multiple exceptions is important when a block of code may raise different types of errors, and you want to respond differently or similarly to each. Python provides several ways to handle multiple exceptions using the try...except structure.\n",
        "\n",
        "   1. Handling Different Exceptions with Separate except Blocks\n",
        "      * You can write multiple except blocks to handle different exception types separately.\n",
        "\n",
        "   2. Handling Multiple Exceptions with a Single except Block\n",
        "      * You can group multiple exception types in a single except block using a tuple.\n",
        "\n",
        "   3. Catching All Exceptions (Not Recommended for General Use)\n",
        "      * You can use a generic except block to catch any exception.\n",
        "\n",
        "   4. Using else and finally with Multiple Exceptions\n",
        "      * You can still use else (executes if no exception occurs) and finally (always executes) with multiple exception handling.\n",
        "\n",
        "      Handling multiple exceptions makes your Python programs robust, maintainable, and user-friendly, especially when working with user input, files, or external resources."
      ],
      "metadata": {
        "id": "gq5OnmgK7KII"
      }
    },
    {
      "cell_type": "markdown",
      "source": [
        "8.  What is the purpose of the with statement when handling files in Python?\n",
        " - The with statement in Python is used to manage resources efficiently, especially when working with files. Its main purpose is to ensure that resources like file objects are properly cleaned up, such as being automatically closed, even if an error occurs during file operations.\n",
        "\n",
        "     **Key Purpose:**\n",
        "     *  Ensures that a file is automatically closed after its block is executed, without needing to explicitly call file.close().\n",
        "     *  Helps prevent resource leaks (e.g., files left open).\n",
        "     *  Improves code readability and reliability.\n",
        "\n",
        "     **Syntax:**\n",
        "     with open(\"filename.txt\", \"r\") as file:\n",
        "\n",
        "        data = file.read()\n",
        "\n",
        "     #file is automatically closed here\n",
        "\n",
        "     **Benefits:**\n",
        "     * Automatic resource management\n",
        "     * Cleaner syntax for file handling\n",
        "     * Error-safe: Closes the file even if an exception occurs\n",
        "     * Encourages best practices in resource handling\n",
        "\n",
        "     The with statement in Python simplifies safe and efficient file handling. It ensures that files are properly closed after use, even in the event of exceptions, making your code more robust and easier to maintain."
      ],
      "metadata": {
        "id": "rGdXaJulMQ-w"
      }
    },
    {
      "cell_type": "markdown",
      "source": [
        "9. What is the difference between multithreading and multiprocessing?\n",
        " - The difference between multithreading and multiprocessing lies primarily in how they handle concurrent execution, memory usage, and performance optimization in a computer program. Here's a breakdown of the two concepts:\n",
        "     **Multithreading**\n",
        "     \n",
        "     Definition:\n",
        "     Multithreading is the ability of a CPU (or a single process) to execute multiple threads concurrently within the same process.\n",
        "      \n",
        "     **Key Features:**\n",
        "    * Threads share the same memory space (same process).\n",
        "    * Lightweight and less resource-intensive.\n",
        "    * Faster context switching between threads.\n",
        "    * Useful for I/O-bound tasks (e.g., file operations, web requests).\n",
        "    * Thread management is done by the application.\n",
        "\n",
        "     **Advantages:**\n",
        "    * Efficient in terms of memory usage.\n",
        "    * Suitable for tasks that can run concurrently but need to share data.\n",
        "    * Lower overhead than multiprocessing.\n",
        "\n",
        "     **Disadvantages:**\n",
        "    * Prone to race conditions and deadlocks.\n",
        "    * Difficult to debug and maintain.\n",
        "    * In languages like Python, the Global Interpreter Lock (GIL) limits true parallelism (only one thread executes Python bytecode at a time).\n",
        "\n",
        "     **Multiprocessing**\n",
        "\n",
        "     Definition:\n",
        "     Multiprocessing is the ability to run multiple processes at the same time, each with its own Python interpreter and memory space.\n",
        "\n",
        "     **Key Features:**\n",
        "    * Each process has its own memory space.\n",
        "    * More resource-intensive than threads.\n",
        "    * Better for CPU-bound tasks (e.g., heavy computation).\n",
        "    * Takes full advantage of multiple cores on modern CPUs.\n",
        "\n",
        "     **Advantages:**\n",
        "    * Can achieve true parallelism, even in Python.\n",
        "    * Isolated memory reduces bugs from shared-state issues.\n",
        "    * Better performance for CPU-heavy programs.\n",
        "\n",
        "     **Disadvantages:**\n",
        "    * Higher memory consumption.\n",
        "    * More overhead in process creation and communication (e.g., via pipes or queues).\n",
        "    * Data sharing between processes is more complex.\n"
      ],
      "metadata": {
        "id": "rJLvniVKcR74"
      }
    },
    {
      "cell_type": "markdown",
      "source": [
        "10. What are the advantages of using logging in a program?\n",
        " - Using logging in a program provides several important advantages, especially in terms of debugging, monitoring, and maintaining software. Here are the main theoretical benefits:\n",
        "\n",
        "     **Advantages of Using Logging in a Program**\n",
        "\n",
        "     1. Easier Debugging and Error Tracking\n",
        "       * Logs help developers understand the program's execution flow.\n",
        "       * Errors and exceptions can be recorded with details (e.g., timestamps, stack traces).\n",
        "       * Makes it easier to reproduce and fix bugs.\n",
        "\n",
        "     2. Performance Monitoring\n",
        "       * Logs can include metrics such as execution time, memory usage, or API call durations.\n",
        "       * Helps identify bottlenecks or performance issues over time.\n",
        "       \n",
        "     3. Auditing and Accountability\n",
        "       * Logs can record user actions and system changes.\n",
        "       * Useful for security audits and compliance (e.g., in financial or healthcare systems).\n",
        "\n",
        "     4. No Need for Interactive Debugging in Production\n",
        "     * Unlike print() statements or debuggers, logs can be reviewed after the program has run, even in production environments.\n",
        "     * Enables post-mortem analysis of crashes or unexpected behavior.\n",
        "\n",
        "     5. Customizable Output\n",
        "     * Logging frameworks allow messages to be categorized (e.g., DEBUG, INFO, WARNING, ERROR, CRITICAL).\n",
        "     * Logs can be filtered, formatted, and directed to different outputs (console, files, databases, etc.).\n",
        "\n",
        "     6. Supports Long-Term Maintenance\n",
        "     7. Non-Intrusive\n",
        "     8. Scalability\n",
        "\n",
        "     Logging is a critical part of professional software development. It improves debugging, monitoring, security, and long-term maintainability, especially in production and large-scale systems."
      ],
      "metadata": {
        "id": "0EqXlGfYgQ-h"
      }
    },
    {
      "cell_type": "markdown",
      "source": [
        "11. What is memory management in Python0?\n",
        " - Memory management in Python refers to how the Python interpreter allocates, uses, and frees up memory while executing programs. It ensures that memory is used efficiently and automatically handles most memory-related tasks so that developers don’t have to manage memory manually\n",
        "\n",
        "     **Key Concepts of Python Memory Management:**\n",
        "     1. Automatic Memory Management\n",
        "     2. Garbage Collection\n",
        "     3. Reference Counting\n",
        "     4. Cyclic Garbage Collector\n",
        "     5. Memory Pools and the PyObject Allocator\n",
        "     6. Dynamic Typing and Memory Overhead\n",
        "     7. Manual Memory Handling Tools (Optional)\n",
        "\n",
        "     Python's memory management system is designed to be efficient, automatic, and developer-friendly, freeing programmers from manual memory handling while still providing tools to optimize memory use when needed."
      ],
      "metadata": {
        "id": "0Na1JAR2i6FB"
      }
    },
    {
      "cell_type": "markdown",
      "source": [
        "12. What are the basic steps involved in exception handling in Python?\n",
        " - Exception handling in Python is a way to respond to errors or unexpected events that occur during program execution without crashing the program. It allows developers to manage exceptions gracefully and keep the program running or fail safely.\n",
        "   \n",
        "     **Basic Steps of Exception Handling in Python:**\n",
        "     1. Try Block: Write Code That May Raise an Exception\n",
        "       * Place the risky code (i.e., code that might throw an error) inside a try block.\n",
        "     2. Except Block: Catch and Handle the Exception\n",
        "       * If an exception occurs in the try block, it jumps to the except block to handle the error.\n",
        "     3. Else Block (Optional): Execute Code If No Exception Occurs\n",
        "       * The else block runs only if the try block doesn't raise an exception.\n",
        "     4. Finally Block (Optional): Always Execute Clean-Up Code\n",
        "       * The finally block runs regardless of whether an exception occurred or not.\n",
        "       * Useful for resource cleanup (e.g., closing files, releasing connections).\n",
        "\n",
        "     Python’s exception handling system is structured to provide flexibility, safety, and clean code organization when dealing with unexpected events or errors during runtime."
      ],
      "metadata": {
        "id": "ED3CUULQlrcJ"
      }
    },
    {
      "cell_type": "markdown",
      "source": [
        "13. Why is memory management important in Python?\n",
        " - Memory management is a critical aspect of programming, and in Python, it plays an especially important role due to the language’s high-level, dynamic, and interpreted nature. Even though Python handles memory automatically, understanding its importance helps in writing efficient, robust, and scalable programs.\n",
        "\n",
        "     **Reasons Why Memory Management Is Important in Python:**\n",
        "     1. Efficient Resource Usage\n",
        "       * Memory is a limited resource.\n",
        "       * Good memory management ensures programs use only the memory they need, avoiding unnecessary allocation.\n",
        "       * Prevents memory bloat and resource exhaustion.\n",
        "\n",
        "     2. Prevention of Memory Leaks\n",
        "       *  A memory leak happens when memory is allocated but never released.\n",
        "       *  In long-running Python programs (e.g. servers, data processing), unmanaged memory can cause the system to slow down or crash.\n",
        "\n",
        "     3. Improved Performance\n",
        "       * Efficient memory usage leads to faster execution.\n",
        "       * Reducing memory overhead allows Python’s garbage collector to work less often, improving runtime performance.\n",
        "\n",
        "     4. Scalability of Applications\n",
        "       * Applications that manage memory well can handle more data, more users, or larger tasks.\n",
        "       * Critical in data science, machine learning, and web applications.\n",
        "\n",
        "     5. Avoiding Crashes and Errors\n",
        "       * Poor memory handling can cause runtime errors like MemoryError, especially when dealing with large datasets or limited environments (e.g., embedded systems).\n",
        "       * Proper memory management keeps programs stable.\n",
        "\n",
        "     6. Support for Multi-Threading and Multi-Processing.\n",
        "     7. Better Debugging and Maintenance.\n",
        "     8. Compatibility with External Libraries.\n",
        "\n",
        "     Memory management in Python is crucial for writing applications that are efficient, scalable, and reliable. Even though Python automates much of this process, understanding how it works helps developers write better, faster, and more stable code."
      ],
      "metadata": {
        "id": "TuEdUH_Dn1oW"
      }
    },
    {
      "cell_type": "markdown",
      "source": [
        "14. What is the role of try and except in exception handling?\n",
        " - In Python, the try and except blocks are the core components of the exception handling mechanism. They work together to detect and handle errors gracefully during program execution.\n",
        "\n",
        "     **Role of try**\n",
        "     * The try block is used to wrap code that might raise an exception.\n",
        "     * It tells the interpreter:\n",
        "\n",
        "        \"Try to execute this block, but if an error occurs, don’t crash — pass control to the except block.\"\n",
        "     * Prevents the program from stopping abruptly when an error occurs.\n",
        "\n",
        "     **Role of except**\n",
        "     * The except block is used to catch and handle specific exceptions that occur in the try block.\n",
        "     * It prevents the program from terminating and allows you to define what should happen when an error occurs (e.g., print a message, retry, log the error).\n",
        "\n",
        "     **Without try-except:**\n",
        "     \n",
        "     If an error occurs and there's no exception handling:\n",
        "     * The program crashes\n",
        "     * Error messages are shown to the user\n",
        "     * No chance to recover or handle it cleanly\n",
        "\n",
        "     The try and except blocks are essential in Python for writing robust, error-resilient programs. They allow developers to anticipate and handle runtime errors gracefully, improving the user experience and system reliability."
      ],
      "metadata": {
        "id": "zbqHTF9trorX"
      }
    },
    {
      "cell_type": "markdown",
      "source": [
        "15. How does Python's garbage collection system work?\n",
        " - Python's garbage collection (GC) system is responsible for automatically managing memory — specifically, freeing up memory used by objects that are no longer needed by the program.\n",
        "\n",
        "     It helps prevent memory leaks and keeps memory usage efficient without requiring manual deallocation\n",
        "\n",
        "     **Key Components of Python’s Garbage Collection System:**\n",
        "     1. Reference Counting\n",
        "       * The primary mechanism for memory management in Python.\n",
        "       * Every object keeps track of how many references (pointers) are pointing to it.\n",
        "       * When an object’s reference count drops to zero, it means nothing is using it anymore — so Python automatically deallocates it.\n",
        "      \n",
        "      2. Problem with Reference Counting: Circular References\n",
        "       * Reference counting can’t handle circular references, where two or more objects reference each other but are otherwise unreachable.\n",
        "      \n",
        "      3. Cyclic Garbage Collector\n",
        "\n",
        "       To handle circular references, Python includes a cyclic garbage collector in the gc module.\n",
        "\n",
        "       How it works:\n",
        "       * Periodically scans memory for groups of objects that reference each other but are no longer reachable from the rest of the program.\n",
        "       * Uses a technique called generational collection.\n",
        "\n",
        "     4. Generational Garbage Collection\n",
        "     5. The gc Module (Optional Manual Control)\n",
        "\n",
        "     Python's garbage collection system is designed to automate memory management, combining reference counting with a cyclic collector and generational strategy. This makes programs more efficient and less error-prone by preventing memory leaks — even in complex scenarios."
      ],
      "metadata": {
        "id": "JQw1ntBWvsnm"
      }
    },
    {
      "cell_type": "markdown",
      "source": [
        "16. What is the purpose of the else block in exception handling?\n",
        " - In Python's exception handling structure, the else block serves a specific and useful purpose: it defines code that should run only if no exception occurs in the try block.\n",
        "\n",
        "     **Purpose of the else Block:**\n",
        "      * The else block is executed only when the code in the try block completes without raising any exceptions.\n",
        "      * It helps separate the error-handling logic (in the except block) from the normal execution path (in the else block).\n",
        "      * Improves code readability and structure.\n",
        "\n",
        "      **Syntax Overview:**\n",
        "\n",
        "      try:\n",
        "      \n",
        "      #Risky code that may raise an exception\n",
        "      \n",
        "      except SomeException:\n",
        "      \n",
        "      #Handle the exception\n",
        "      \n",
        "      else:\n",
        "      \n",
        "      #Run this only if no exception occurred in the try block\n",
        "\n",
        "     **Important Notes:**\n",
        "      * The else block is optional.\n",
        "      * It must follow all except blocks, but before the finally block if used.\n",
        "\n",
        "     **Conclusion:**\n",
        "     The else block in Python’s exception handling is used to run code that should only execute when no exception is raised in the try block. It improves clarity and structure by cleanly separating normal logic from error-handling logic."
      ],
      "metadata": {
        "id": "7CkJRJKp3yo7"
      }
    },
    {
      "cell_type": "markdown",
      "source": [
        "17. What are the common logging levels in Python?\n",
        " - In Python, the logging module provides a flexible framework for emitting log messages from programs. One of its core features is the use of logging levels, which categorize the severity or importance of events during program execution.\n",
        "\n",
        "     **Purpose of Logging Levels:**\n",
        "     * To organize and filter log messages by severity.\n",
        "     * To allow developers and systems to respond appropriately to different types of events (e.g., debug info vs. serious errors).\n",
        "     * To make logs easier to read and analyze, especially in large applications.\n",
        "\n",
        "     **Key Characteristics:**\n",
        "     * Hierarchical: Each level includes all the more severe levels above it (e.g., setting level to WARNING includes ERROR and CRITICAL).\n",
        "     * Configurable: You can choose which level of logs to output depending on the environment (e.g., DEBUG for development, WARNING or higher for production).\n",
        "     * Standardized: These levels are part of the official Python logging standard, making them consistent across projects.\n",
        "\n",
        "     Python’s logging levels categorize the seriousness of events, helping developers and systems process logs effectively. They range from DEBUG (least severe) to CRITICAL (most severe), and are essential for writing maintainable, observable, and production-ready code."
      ],
      "metadata": {
        "id": "6ZZfwzOd47_o"
      }
    },
    {
      "cell_type": "markdown",
      "source": [
        "18. What is the difference between os.fork() and multiprocessing in Python?\n",
        " - Both os.fork() and the multiprocessing module in Python are used to create new processes, but they differ significantly in how they work, when they should be used, and how portable and user-friendly they are.\n",
        "\n",
        "    1. os.fork()\n",
        "\n",
        "     Description:\n",
        "     * os.fork() is a low-level system call available on Unix-like systems (Linux, macOS).\n",
        "     * It creates a new child process by duplicating the current process.\n",
        "     * Both parent and child processes continue executing the same code independently.\n",
        "\n",
        "    2. multiprocessing Module\n",
        "    \n",
        "     Description:\n",
        "     * A high-level, cross-platform module in Python for creating and managing separate processes.\n",
        "     * It provides a Process class and tools for inter-process communication (IPC) like queues, pipes, and shared memory.\n",
        "\n",
        "     Use os.fork() when you need low-level control and are working on a Unix system.\n",
        "     Use multiprocessing for most applications that require cross-platform process creation, easier communication, and better abstraction — especially for CPU-bound tasks.\n"
      ],
      "metadata": {
        "id": "Eri7W33e6Af6"
      }
    },
    {
      "cell_type": "markdown",
      "source": [
        "19. What is the importance of closing a file in Python?\n",
        " -  Closing a file in Python is an essential step when working with file input/output operations. It ensures that the program releases system resources, saves data properly, and prevents potential errors.\n",
        "\n",
        "     **Importance of Closing a File:**\n",
        "     1. Releases System Resources\n",
        "        * Files consume system resources (file handles, memory buffers).\n",
        "        * If files are not closed, especially in large programs, it can lead to resource leaks and system limitations.\n",
        "     2. Ensures Data Is Saved\n",
        "        * When writing to a file, Python buffers data before writing it to disk.\n",
        "        * If you don't close the file, some data may not be written, leading to data loss or corruption.\n",
        "     3. Prevents File Corruption\n",
        "        * Incomplete file operations due to not closing a file may corrupt the file.\n",
        "        * Particularly critical in write and append modes.\n",
        "     4. Allows Access by Other Programs\n",
        "        * An open file may be locked by the operating system.\n",
        "        * Closing the file releases the lock, allowing other programs or processes to access it.\n",
        "     5. Improves Program Stability and Portability\n",
        "        * Closing files properly helps avoid unexpected behavior, especially in cross-platform programs.\n",
        "\n",
        "     **Conclusion:**\n",
        "     Closing a file in Python is critical for ensuring data integrity, system performance, and program correctness. Always close files — preferably using a with statement to automate the process."
      ],
      "metadata": {
        "id": "D7DY4tWS7JT2"
      }
    },
    {
      "cell_type": "markdown",
      "source": [
        "20. What is the difference between file.read() and file.readline() in Python?\n",
        " - Both file.read() and file.readline() are methods used to read content from a file in Python, but they differ in how much data they read and how they handle the file content.\n",
        "\n",
        " 1. file.read()\n",
        "\n",
        "     Description:\n",
        "      * Reads the entire file (or a specified number of bytes) into a single string.\n",
        "      * If no argument is passed, it reads all the remaining content from the file.\n",
        "\n",
        "     Key Features:\n",
        "     * Returns a single string containing the file's contents.\n",
        "     * Useful when you want to process the whole file at once.\n",
        "     * Can take an optional parameter to read a specific number of characters (bytes).\n",
        "\n",
        "    2. file.readline()\n",
        "\n",
        "     Description:\n",
        "     * Reads only one line from the file at a time.\n",
        "     * Each call to readline() reads the next line in sequence.\n",
        "\n",
        "     Key Features:\n",
        "     * Returns a single line as a string, including the newline character (\\n).\n",
        "     * Useful for line-by-line processing, especially with large files.\n",
        "     * More memory-efficient for large files than read().\n",
        "\n",
        "     Use **file.read()** when you need the whole file content at once and the file is small.\n",
        "     Use **file.readline()** when you need to process one line at a time, especially for large files or when reading structured data line-by-line."
      ],
      "metadata": {
        "id": "Ydxd66bv8e7u"
      }
    },
    {
      "cell_type": "markdown",
      "source": [
        "21. What is the logging module in Python used for?\n",
        " - The logging module in Python is a standard library used to record log messages from programs. It provides a flexible and configurable system for capturing diagnostic information, debugging output, and error messages, making it a crucial tool for building maintainable and reliable software.\n",
        "\n",
        "     **Purpose of the logging Module:**\n",
        "     1. Tracking Events During Program Execution\n",
        "        * Records events like function calls, variable values, errors, warnings, and more.\n",
        "        * Helps developers understand what the program is doing at each step.\n",
        "\n",
        "     2. Debugging and Troubleshooting\n",
        "        * Logs can include detailed information useful during development or when errors occur in production.\n",
        "        * Helps identify and fix bugs more efficiently.\n",
        "\n",
        "     3. Monitoring and Auditing\n",
        "        * Logs can be used to monitor system behavior over time.\n",
        "        * Important for audit trails in systems that require security or compliance tracking.\n",
        "     4. Error Reporting Without Interrupting the Program\n",
        "        * Instead of stopping the program with print statements or exceptions, logging records issues quietly.\n",
        "        * Keeps the application running while still capturing problems.\n",
        "     5. Customizable Logging Output\n",
        "       * Developers can configure:\n",
        "          * Log levels (DEBUG, INFO, WARNING, ERROR, CRITICAL)\n",
        "          * Output destinations (console, file, network, etc.)\n",
        "          * Message formats and timestamps\n",
        "\n",
        "     Conclusion:\n",
        "     The logging module in Python is used to track, record, and manage messages related to the execution of a program. It is an essential tool for debugging, monitoring, auditing, and error handling in both development and production environments."
      ],
      "metadata": {
        "id": "9_em4mv6-S3H"
      }
    },
    {
      "cell_type": "markdown",
      "source": [
        "22.  What is the os module in Python used for in file handling?\n",
        " - The os module in Python is part of the standard library and is used to interact with the operating system. In the context of file handling, it provides functions that allow Python programs to perform file and directory-level operations such as creating, deleting, navigating, and modifying files and folders.\n",
        "\n",
        "     **Purpose of the os Module in File Handling:**\n",
        "     1. File and Directory Management\n",
        "       * Create, rename, or delete files and folders.\n",
        "       * Navigate the file system.\n",
        "     2. Path Operations\n",
        "       * Build, normalize, and split file paths in a way that works across different operating systems (Windows, Linux, macOS).\n",
        "    3. Directory Navigation\n",
        "       * Change the current working directory or list the contents of a directory.\n",
        "    4. Accessing File Metadata\n",
        "       * Retrieve file size, modification time, and other attributes.\n",
        "\n",
        "     Conclusion:\n",
        "     The os module is used in file handling to perform low-level file system operations such as creating, deleting, renaming, navigating, and checking files and directories. It helps make Python programs more powerful, flexible, and OS-independent when dealing with the file system."
      ],
      "metadata": {
        "id": "DxgOrtbAAHnL"
      }
    },
    {
      "cell_type": "markdown",
      "source": [
        "23. What are the challenges associated with memory management in Python?\n",
        " - Python handles memory management automatically using techniques like reference counting and garbage collection. However, despite this automation, several challenges can arise — especially in large or performance-critical applications.\n",
        "\n",
        "     **Common Challenges in Python Memory Management:**\n",
        "     1. Memory Leaks\n",
        "       * Even though Python has garbage collection, memory leaks can still occur.\n",
        "       * Common causes:\n",
        "          * Circular references not collected promptly.\n",
        "          * Global variables or long-lived objects holding onto unnecessary data.\n",
        "          * Caching objects without cleanup.\n",
        "     2. Circular References\n",
        "       * Objects that reference each other (directly or indirectly) may create reference cycles.\n",
        "       * Python’s garbage collector can clean these up, but not immediately, and not always efficiently.\n",
        "\n",
        "     3. High Memory Usage with Large Data\n",
        "       * Python objects tend to use more memory than equivalent C data structures.\n",
        "       * Handling large datasets (e.g., in data science or machine learning) can lead to RAM exhaustion if not optimized.\n",
        "     4. Inefficient Use of Objects\n",
        "       * Creating many small objects (e.g., in loops) or copying data unnecessarily can waste memory.\n",
        "       * Mutable vs. immutable data types (e.g., string concatenation in loops) may lead to inefficient memory use.\n",
        "     5. Difficulty Debugging Memory Issues\n",
        "       * Python doesn't make it easy to trace memory leaks or track down what is using memory.\n",
        "       * Tools like gc, tracemalloc, or third-party profilers are needed but require learning and setup.\n",
        "\n",
        "     Conclusion:\n",
        "     While Python's memory management is largely automatic, developers must still be mindful of inefficient patterns, unintentional references, and resource-intensive operations. Understanding these challenges helps write more efficient, scalable, and bug-free programs."
      ],
      "metadata": {
        "id": "tuYfKqtgBMjq"
      }
    },
    {
      "cell_type": "markdown",
      "source": [
        "24. How do you raise an exception manually in Python?\n",
        " - In Python, you can raise an exception manually using the raise statement. This is useful when you want to signal an error condition or enforce a specific rule in your program.\n",
        "\n",
        "     **Purpose of Raising Exceptions Manually:**\n",
        "     * To trigger a controlled error when a specific condition is met.\n",
        "     * To enforce validation (e.g., invalid input, rule violations).\n",
        "     * To allow custom error messages or use custom exception classes.\n",
        "\n",
        "     **Syntax of Raising an Exception:**\n",
        "\n",
        "     raise ExceptionType(\"Error message\")\n",
        "\n",
        "     Conclusion:\n",
        "     To manually raise an exception in Python, use the raise statement followed by an exception type and optional message. This is a powerful way to enforce program logic and handle errors proactively and clearly.\n"
      ],
      "metadata": {
        "id": "Z5uBdMqqDWWm"
      }
    },
    {
      "cell_type": "markdown",
      "source": [
        "25. Why is it important to use multithreading in certain applications?\n",
        " - Multithreading is a technique in which a program can run multiple threads concurrently within a single process. It is particularly important in applications where tasks can be performed simultaneously or need to remain responsive while doing background work.\n",
        "\n",
        "     **Key Reasons for Using Multithreading:**\n",
        "     1. Improves Responsiveness\n",
        "       * Multithreading keeps applications responsive by offloading long-running tasks (e.g., file downloads, API calls, or computations) to background threads.\n",
        "       * Useful in GUI applications, where the interface must stay active while work happens in the background.\n",
        "     2. Handles I/O-Bound Operations Efficiently\n",
        "       * Threads are very effective for I/O-bound tasks (e.g., reading files, network communication) because while one thread waits for I/O, others can continue executing.\n",
        "       * Python's Global Interpreter Lock (GIL) allows threads to release control during I/O operations, making multithreading ideal in these cases.\n",
        "     3. Better Resource Utilization\n",
        "       * Threads share the same memory space within a process, which makes them lightweight and faster to switch between compared to separate processes.\n",
        "     4. Parallel Execution of Independent Tasks\n",
        "       * Useful when different parts of a program can run independently (e.g., listening to user input while processing data).\n",
        "       * Enables programs to do more than one thing at a time without needing multiple processes.\n",
        "     5. Reduces Latency in Real-Time Applications\n",
        "       * In real-time systems like gaming, simulations, or robotics, multithreading ensures that multiple components (like graphics, user input, or physics calculations) run simultaneously and without delay.\n",
        "    \n",
        "     Conclusion:\n",
        "     Multithreading is important in applications that require concurrency,  responsiveness, and efficient I/O processing. It helps build programs that are faster, more interactive, and capable of doing multiple tasks simultaneously — especially in networked, GUI, or real-time systems."
      ],
      "metadata": {
        "id": "kmgs5DG2EfyG"
      }
    },
    {
      "cell_type": "markdown",
      "source": [
        "#Practical Questions"
      ],
      "metadata": {
        "id": "eKgOQvmJRRfu"
      }
    },
    {
      "cell_type": "markdown",
      "source": [
        "1. How can you open a file for writing in Python and write a string to it?"
      ],
      "metadata": {
        "id": "ZlgMLdgCR2oT"
      }
    },
    {
      "cell_type": "code",
      "source": [
        "with open(\"greeting.txt\", \"w\") as file:\n",
        "    file.write(\"Hello, world!\")"
      ],
      "metadata": {
        "id": "VdSEaMHiR4Qg"
      },
      "execution_count": 3,
      "outputs": []
    },
    {
      "cell_type": "markdown",
      "source": [
        "2. Write a Python program to read the contents of a file and print each line?"
      ],
      "metadata": {
        "id": "Q-l0V4-XSiNH"
      }
    },
    {
      "cell_type": "code",
      "source": [
        "with open(\"greeting.txt\", \"r\") as file:\n",
        "    for line in file:\n",
        "        print(line.strip())"
      ],
      "metadata": {
        "colab": {
          "base_uri": "https://localhost:8080/"
        },
        "id": "dIaEMBgCSjrW",
        "outputId": "7b649abc-7c9d-4a21-a109-a0075e744f16"
      },
      "execution_count": 4,
      "outputs": [
        {
          "output_type": "stream",
          "name": "stdout",
          "text": [
            "Hello, world!\n"
          ]
        }
      ]
    },
    {
      "cell_type": "markdown",
      "source": [
        "3. How would you handle a case where the file doesn't exist while trying to open it for reading?"
      ],
      "metadata": {
        "id": "7wumcKLgSvl_"
      }
    },
    {
      "cell_type": "code",
      "source": [
        "try:\n",
        "    with open(\"non_existent_file.txt\", \"r\") as file:\n",
        "        content = file.read()\n",
        "except FileNotFoundError:\n",
        "    print(\"The file does not exist.\")"
      ],
      "metadata": {
        "colab": {
          "base_uri": "https://localhost:8080/"
        },
        "id": "IbohVx0RSxZj",
        "outputId": "f57470ed-cbfa-4225-9ab5-046caed16453"
      },
      "execution_count": 5,
      "outputs": [
        {
          "output_type": "stream",
          "name": "stdout",
          "text": [
            "The file does not exist.\n"
          ]
        }
      ]
    },
    {
      "cell_type": "markdown",
      "source": [
        "4. Write a Python script that reads from one file and writes its content to another file?"
      ],
      "metadata": {
        "id": "EIKN_iB4S3BP"
      }
    },
    {
      "cell_type": "code",
      "source": [
        "# File names\n",
        "source_file = \"input.txt\"\n",
        "destination_file = \"output.txt\"\n",
        "\n",
        "try:\n",
        "    # Open source file in read mode and destination in write mode\n",
        "    with open(source_file, \"r\") as src, open(destination_file, \"w\") as dest:\n",
        "        for line in src:\n",
        "            dest.write(line)\n",
        "    print(f\"Content copied from '{source_file}' to '{destination_file}' successfully.\")\n",
        "except FileNotFoundError:\n",
        "    print(f\"Error: The file '{source_file}' was not found.\")\n",
        "except IOError as e:\n",
        "    print(f\"I/O error occurred: {e}\")"
      ],
      "metadata": {
        "colab": {
          "base_uri": "https://localhost:8080/"
        },
        "id": "FRGuV1IfS7ja",
        "outputId": "803abc76-2a22-4030-b675-45297d46539a"
      },
      "execution_count": 57,
      "outputs": [
        {
          "output_type": "stream",
          "name": "stdout",
          "text": [
            "Error: The file 'input.txt' was not found.\n"
          ]
        }
      ]
    },
    {
      "cell_type": "markdown",
      "source": [
        "5. How would you catch and handle division by zero error in Python?"
      ],
      "metadata": {
        "id": "_CuOpL9cTysy"
      }
    },
    {
      "cell_type": "code",
      "execution_count": 13,
      "metadata": {
        "id": "5vbAP83ypgXT",
        "colab": {
          "base_uri": "https://localhost:8080/"
        },
        "outputId": "30265118-6771-4380-ee82-e6f99a36e981"
      },
      "outputs": [
        {
          "output_type": "stream",
          "name": "stdout",
          "text": [
            "Error: Division by zero is not allowed.\n",
            "Result: None\n"
          ]
        }
      ],
      "source": [
        "try:\n",
        "    result = 10 / 0\n",
        "except ZeroDivisionError:\n",
        "    print(\"Error: Division by zero is not allowed.\")\n",
        "    result = None  # Set result to None to indicate an error\n",
        "\n",
        "print(\"Result:\", result)"
      ]
    },
    {
      "cell_type": "markdown",
      "source": [
        "6. Write a Python program that logs an error message to a log file when a division by zero exception occurs?"
      ],
      "metadata": {
        "id": "egxojaa0UO3m"
      }
    },
    {
      "cell_type": "code",
      "source": [
        "import logging\n",
        "\n",
        "logging.basicConfig(filename=\"error_log.txt\", level=logging.ERROR)\n",
        "\n",
        "try:\n",
        "    result = 10 / 0\n",
        "except ZeroDivisionError:\n",
        "    logging.error(\"Division by zero error occurred.\")\n",
        "    result = None\n",
        "\n",
        "print(\"Result:\", result)"
      ],
      "metadata": {
        "colab": {
          "base_uri": "https://localhost:8080/"
        },
        "id": "9muC7WpBUI4Y",
        "outputId": "1deeb16b-b57b-48e9-b22c-2959a469b824"
      },
      "execution_count": 14,
      "outputs": [
        {
          "output_type": "stream",
          "name": "stderr",
          "text": [
            "ERROR:root:Division by zero error occurred.\n"
          ]
        },
        {
          "output_type": "stream",
          "name": "stdout",
          "text": [
            "Result: None\n"
          ]
        }
      ]
    },
    {
      "cell_type": "markdown",
      "source": [
        "7. How do you log information at different levels (INFO, ERROR, WARNING) in Python using the logging module?"
      ],
      "metadata": {
        "id": "dsuXMoRHUxay"
      }
    },
    {
      "cell_type": "code",
      "source": [
        "import logging\n",
        "\n",
        "logging.basicConfig(filename=\"log_output.txt\", level=logging.INFO)\n",
        "\n",
        "logging.info(\"This is an informational message.\")\n",
        "logging.error(\"This is an error message.\")\n",
        "logging.warning(\"This is a warning message.\")"
      ],
      "metadata": {
        "colab": {
          "base_uri": "https://localhost:8080/"
        },
        "id": "m1Da0e5IUgNL",
        "outputId": "5458a93a-001b-44f3-bc1d-8fd0ddff7f64"
      },
      "execution_count": 15,
      "outputs": [
        {
          "output_type": "stream",
          "name": "stderr",
          "text": [
            "ERROR:root:This is an error message.\n",
            "WARNING:root:This is a warning message.\n"
          ]
        }
      ]
    },
    {
      "cell_type": "markdown",
      "source": [
        "8. Write a program to handle a file opening error using exception handling?"
      ],
      "metadata": {
        "id": "K5f8-CbrVWgZ"
      }
    },
    {
      "cell_type": "code",
      "source": [
        "try:\n",
        "    with open(\"non_existent_file.txt\", \"r\") as file:\n",
        "        content = file.read()\n",
        "except FileNotFoundError:\n",
        "    print(\"Error: The file does not exist.\")\n",
        "    content = None\n",
        "\n",
        "print(\"File content:\", content)"
      ],
      "metadata": {
        "colab": {
          "base_uri": "https://localhost:8080/"
        },
        "id": "utUlGEVEVE1i",
        "outputId": "5e0a80c5-8e7c-4430-c65a-9639a2147fe9"
      },
      "execution_count": 16,
      "outputs": [
        {
          "output_type": "stream",
          "name": "stdout",
          "text": [
            "Error: The file does not exist.\n",
            "File content: None\n"
          ]
        }
      ]
    },
    {
      "cell_type": "markdown",
      "source": [
        "9.  How can you read a file line by line and store its content in a list in Python?"
      ],
      "metadata": {
        "id": "AG8JvyAtVpBX"
      }
    },
    {
      "cell_type": "code",
      "source": [
        "with open(\"example.txt\", \"r\") as file:\n",
        "    lines = file.readlines()\n",
        "\n",
        "for line in lines:\n",
        "    print(line.strip())\n"
      ],
      "metadata": {
        "colab": {
          "base_uri": "https://localhost:8080/"
        },
        "id": "dKJvUPhtWIoR",
        "outputId": "40b3768f-25ef-4bb5-da2a-004b1f48fe04"
      },
      "execution_count": 58,
      "outputs": [
        {
          "output_type": "stream",
          "name": "stdout",
          "text": [
            "Hello, World!\n"
          ]
        }
      ]
    },
    {
      "cell_type": "markdown",
      "source": [
        "10. How can you append data to an existing file in Python?"
      ],
      "metadata": {
        "id": "0WPDu6cqWYRZ"
      }
    },
    {
      "cell_type": "code",
      "source": [
        "with open(\"existing_file.txt\", \"a\") as file:\n",
        "    file.write(\"\\nAppending this line.\")\n",
        "\n",
        "print(\"Data appended successfully!\")"
      ],
      "metadata": {
        "colab": {
          "base_uri": "https://localhost:8080/"
        },
        "id": "opl3xJD5WTQO",
        "outputId": "e54954a2-9f3c-4891-f481-cf718496dea4"
      },
      "execution_count": 19,
      "outputs": [
        {
          "output_type": "stream",
          "name": "stdout",
          "text": [
            "Data appended successfully!\n"
          ]
        }
      ]
    },
    {
      "cell_type": "markdown",
      "source": [
        "11. Write a Python program that uses a try-except block to handle an error when attempting to access a\n",
        "dictionary key that doesn't exist?"
      ],
      "metadata": {
        "id": "fJlff5wcWtMq"
      }
    },
    {
      "cell_type": "code",
      "source": [
        "my_dict = {\"a\": 1, \"b\": 2, \"c\": 3}\n",
        "\n",
        "try:\n",
        "    value = my_dict[\"d\"]  # Attempt to access a non-existent key\n",
        "    print(\"Value:\", value)\n",
        "except KeyError:\n",
        "    print(\"Error: Key not found in the dictionary.\")"
      ],
      "metadata": {
        "colab": {
          "base_uri": "https://localhost:8080/"
        },
        "id": "XQMz7yElWms9",
        "outputId": "2ff55abf-43ff-4fbf-d103-6e414ddfa753"
      },
      "execution_count": 20,
      "outputs": [
        {
          "output_type": "stream",
          "name": "stdout",
          "text": [
            "Error: Key not found in the dictionary.\n"
          ]
        }
      ]
    },
    {
      "cell_type": "markdown",
      "source": [
        "12. Write a program that demonstrates using multiple except blocks to handle different types of exceptions?"
      ],
      "metadata": {
        "id": "eQHZHlV1X2uG"
      }
    },
    {
      "cell_type": "code",
      "source": [
        "try:\n",
        "    result = 10 / 0  # Division by zero\n",
        "except ZeroDivisionError:\n",
        "    print(\"Error: Division by zero.\")\n",
        "except ValueError:\n",
        "    print(\"Error: Invalid value.\")"
      ],
      "metadata": {
        "colab": {
          "base_uri": "https://localhost:8080/"
        },
        "id": "L2IaAPdcW3va",
        "outputId": "0dbd3c96-579e-4b3c-c669-82f97ddcd82c"
      },
      "execution_count": 21,
      "outputs": [
        {
          "output_type": "stream",
          "name": "stdout",
          "text": [
            "Error: Division by zero.\n"
          ]
        }
      ]
    },
    {
      "cell_type": "markdown",
      "source": [
        "13. How would you check if a file exists before attempting to read it in Python?"
      ],
      "metadata": {
        "id": "7qFzECVkX-4L"
      }
    },
    {
      "cell_type": "code",
      "source": [
        "import os\n",
        "\n",
        "file_path = \"existing_file.txt\"\n",
        "\n",
        "if os.path.exists(file_path):\n",
        "    with open(file_path, \"r\") as file:\n",
        "        content = file.read()\n",
        "        print(\"File content:\", content)"
      ],
      "metadata": {
        "colab": {
          "base_uri": "https://localhost:8080/"
        },
        "id": "x1rUNysVX7f1",
        "outputId": "f132716b-6e88-4f24-e078-555d3d646e23"
      },
      "execution_count": 22,
      "outputs": [
        {
          "output_type": "stream",
          "name": "stdout",
          "text": [
            "File content: \n",
            "Appending this line.\n"
          ]
        }
      ]
    },
    {
      "cell_type": "markdown",
      "source": [
        "14.  Write a program that uses the logging module to log both informational and error messages?"
      ],
      "metadata": {
        "id": "eUT5t_Z8YHQn"
      }
    },
    {
      "cell_type": "code",
      "source": [
        "import logging\n",
        "\n",
        "logging.basicConfig(filename=\"log_output.txt\", level=logging.INFO)\n",
        "\n",
        "logging.info(\"This is an informational message.\")\n",
        "logging.error(\"This is an error message.\")\n",
        "\n"
      ],
      "metadata": {
        "colab": {
          "base_uri": "https://localhost:8080/"
        },
        "id": "VGasXASfYDnq",
        "outputId": "0ac471f9-504a-4592-c4ff-3dc53a42d93d"
      },
      "execution_count": 23,
      "outputs": [
        {
          "output_type": "stream",
          "name": "stderr",
          "text": [
            "ERROR:root:This is an error message.\n"
          ]
        }
      ]
    },
    {
      "cell_type": "markdown",
      "source": [
        "15. Write a Python program that prints the content of a file and handles the case when the file is empty?"
      ],
      "metadata": {
        "id": "iNQVkD3wYdaf"
      }
    },
    {
      "cell_type": "code",
      "source": [
        "try:\n",
        "    with open(\"empty_file.txt\", \"r\") as file:\n",
        "        content = file.read()\n",
        "        if content:\n",
        "            print(\"File content:\")\n",
        "            print(content)\n",
        "        else:\n",
        "            print(\"The file is empty.\")\n",
        "\n",
        "except FileNotFoundError:\n",
        "    print(\"Error: The file does not exist.\")\n",
        "except Exception as e:\n",
        "    print(\"An error occurred:\", str(e))"
      ],
      "metadata": {
        "colab": {
          "base_uri": "https://localhost:8080/"
        },
        "id": "IADxhjkBYZVT",
        "outputId": "79248732-6e34-40d1-96ef-94310c9cc575"
      },
      "execution_count": 25,
      "outputs": [
        {
          "output_type": "stream",
          "name": "stdout",
          "text": [
            "Error: The file does not exist.\n"
          ]
        }
      ]
    },
    {
      "cell_type": "markdown",
      "source": [
        "16. Demonstrate how to use memory profiling to check the memory usage of a small program?"
      ],
      "metadata": {
        "id": "6k7G1nqrYlzV"
      }
    },
    {
      "cell_type": "code",
      "source": [
        "from memory_profiler import profile\n",
        "\n",
        "@profile\n",
        "def create_large_list():\n",
        "    data = [i * 2 for i in range(1000000)]  # Allocate a large list\n",
        "    return sum(data)\n",
        "\n",
        "if __name__ == \"__main__\":\n",
        "    create_large_list()"
      ],
      "metadata": {
        "id": "vrqnpUPiYgQp"
      },
      "execution_count": null,
      "outputs": []
    },
    {
      "cell_type": "markdown",
      "source": [
        "17.   Write a Python program to create and write a list of numbers to a file, one number per line?"
      ],
      "metadata": {
        "id": "fhv9XQRyZA02"
      }
    },
    {
      "cell_type": "code",
      "source": [
        "# List of numbers to write\n",
        "numbers = [1, 2, 3, 4, 5, 10, 20, 30]\n",
        "\n",
        "# Open the file in write mode\n",
        "with open(\"numbers.txt\", \"w\") as file:\n",
        "    for number in numbers:\n",
        "        file.write(f\"{number}\\n\")  # Write each number followed by a newline\n",
        "        print(\"List of numbers written to the file successfully!\")"
      ],
      "metadata": {
        "colab": {
          "base_uri": "https://localhost:8080/"
        },
        "id": "DtiK0HYUYypK",
        "outputId": "d0ac3417-fe5b-489b-bdef-08cf1b8ae123"
      },
      "execution_count": 41,
      "outputs": [
        {
          "output_type": "stream",
          "name": "stdout",
          "text": [
            "List of numbers written to the file successfully!\n",
            "List of numbers written to the file successfully!\n",
            "List of numbers written to the file successfully!\n",
            "List of numbers written to the file successfully!\n",
            "List of numbers written to the file successfully!\n",
            "List of numbers written to the file successfully!\n",
            "List of numbers written to the file successfully!\n",
            "List of numbers written to the file successfully!\n"
          ]
        }
      ]
    },
    {
      "cell_type": "markdown",
      "source": [
        "18. How would you implement a basic logging setup that logs to a file with rotation after 1MB?"
      ],
      "metadata": {
        "id": "4N9hEmJkZffK"
      }
    },
    {
      "cell_type": "code",
      "source": [
        "import logging\n",
        "from logging.handlers import RotatingFileHandler\n",
        "\n",
        "# Create a logger object\n",
        "logger = logging.getLogger(\"MyLogger\")\n",
        "logger.setLevel(logging.DEBUG)  # Set the minimum logging level\n",
        "\n",
        "# Create a rotating file handler\n",
        "handler = RotatingFileHandler(\n",
        "    \"app.log\",         # Log file name\n",
        "    maxBytes=1_000,  # 1MB (1,000 bytes)\n",
        "    backupCount=3        # Keep up to 3 backup files\n",
        ")\n",
        "\n",
        "# Create a formatter and set it for the handler\n",
        "formatter = logging.Formatter('%(asctime)s - %(levelname)s - %(message)s')\n",
        "handler.setFormatter(formatter)\n",
        "\n",
        "# Add the handler to the logger\n",
        "logger.addHandler(handler)\n",
        "\n",
        "# Example logging\n",
        "for i in range(1000):\n",
        "    logger.debug(f\"Log message number {i}\")"
      ],
      "metadata": {
        "colab": {
          "base_uri": "https://localhost:8080/"
        },
        "id": "FrRD2lRFa-DN",
        "outputId": "0c0ebb30-86b5-439e-e814-6382d75740f9"
      },
      "execution_count": 38,
      "outputs": [
        {
          "output_type": "stream",
          "name": "stderr",
          "text": [
            "DEBUG:MyLogger:Log message number 0\n",
            "DEBUG:MyLogger:Log message number 1\n",
            "DEBUG:MyLogger:Log message number 2\n",
            "DEBUG:MyLogger:Log message number 3\n",
            "DEBUG:MyLogger:Log message number 4\n",
            "DEBUG:MyLogger:Log message number 5\n",
            "DEBUG:MyLogger:Log message number 6\n",
            "DEBUG:MyLogger:Log message number 7\n",
            "DEBUG:MyLogger:Log message number 8\n",
            "DEBUG:MyLogger:Log message number 9\n",
            "DEBUG:MyLogger:Log message number 10\n",
            "DEBUG:MyLogger:Log message number 11\n",
            "DEBUG:MyLogger:Log message number 12\n",
            "DEBUG:MyLogger:Log message number 13\n",
            "DEBUG:MyLogger:Log message number 14\n",
            "DEBUG:MyLogger:Log message number 15\n",
            "DEBUG:MyLogger:Log message number 16\n",
            "DEBUG:MyLogger:Log message number 17\n",
            "DEBUG:MyLogger:Log message number 18\n",
            "DEBUG:MyLogger:Log message number 19\n",
            "DEBUG:MyLogger:Log message number 20\n",
            "DEBUG:MyLogger:Log message number 21\n",
            "DEBUG:MyLogger:Log message number 22\n",
            "DEBUG:MyLogger:Log message number 23\n",
            "DEBUG:MyLogger:Log message number 24\n",
            "DEBUG:MyLogger:Log message number 25\n",
            "DEBUG:MyLogger:Log message number 26\n",
            "DEBUG:MyLogger:Log message number 27\n",
            "DEBUG:MyLogger:Log message number 28\n",
            "DEBUG:MyLogger:Log message number 29\n",
            "DEBUG:MyLogger:Log message number 30\n",
            "DEBUG:MyLogger:Log message number 31\n",
            "DEBUG:MyLogger:Log message number 32\n",
            "DEBUG:MyLogger:Log message number 33\n",
            "DEBUG:MyLogger:Log message number 34\n",
            "DEBUG:MyLogger:Log message number 35\n",
            "DEBUG:MyLogger:Log message number 36\n",
            "DEBUG:MyLogger:Log message number 37\n",
            "DEBUG:MyLogger:Log message number 38\n",
            "DEBUG:MyLogger:Log message number 39\n",
            "DEBUG:MyLogger:Log message number 40\n",
            "DEBUG:MyLogger:Log message number 41\n",
            "DEBUG:MyLogger:Log message number 42\n",
            "DEBUG:MyLogger:Log message number 43\n",
            "DEBUG:MyLogger:Log message number 44\n",
            "DEBUG:MyLogger:Log message number 45\n",
            "DEBUG:MyLogger:Log message number 46\n",
            "DEBUG:MyLogger:Log message number 47\n",
            "DEBUG:MyLogger:Log message number 48\n",
            "DEBUG:MyLogger:Log message number 49\n",
            "DEBUG:MyLogger:Log message number 50\n",
            "DEBUG:MyLogger:Log message number 51\n",
            "DEBUG:MyLogger:Log message number 52\n",
            "DEBUG:MyLogger:Log message number 53\n",
            "DEBUG:MyLogger:Log message number 54\n",
            "DEBUG:MyLogger:Log message number 55\n",
            "DEBUG:MyLogger:Log message number 56\n",
            "DEBUG:MyLogger:Log message number 57\n",
            "DEBUG:MyLogger:Log message number 58\n",
            "DEBUG:MyLogger:Log message number 59\n",
            "DEBUG:MyLogger:Log message number 60\n",
            "DEBUG:MyLogger:Log message number 61\n",
            "DEBUG:MyLogger:Log message number 62\n",
            "DEBUG:MyLogger:Log message number 63\n",
            "DEBUG:MyLogger:Log message number 64\n",
            "DEBUG:MyLogger:Log message number 65\n",
            "DEBUG:MyLogger:Log message number 66\n",
            "DEBUG:MyLogger:Log message number 67\n",
            "DEBUG:MyLogger:Log message number 68\n",
            "DEBUG:MyLogger:Log message number 69\n",
            "DEBUG:MyLogger:Log message number 70\n",
            "DEBUG:MyLogger:Log message number 71\n",
            "DEBUG:MyLogger:Log message number 72\n",
            "DEBUG:MyLogger:Log message number 73\n",
            "DEBUG:MyLogger:Log message number 74\n",
            "DEBUG:MyLogger:Log message number 75\n",
            "DEBUG:MyLogger:Log message number 76\n",
            "DEBUG:MyLogger:Log message number 77\n",
            "DEBUG:MyLogger:Log message number 78\n",
            "DEBUG:MyLogger:Log message number 79\n",
            "DEBUG:MyLogger:Log message number 80\n",
            "DEBUG:MyLogger:Log message number 81\n",
            "DEBUG:MyLogger:Log message number 82\n",
            "DEBUG:MyLogger:Log message number 83\n",
            "DEBUG:MyLogger:Log message number 84\n",
            "DEBUG:MyLogger:Log message number 85\n",
            "DEBUG:MyLogger:Log message number 86\n",
            "DEBUG:MyLogger:Log message number 87\n",
            "DEBUG:MyLogger:Log message number 88\n",
            "DEBUG:MyLogger:Log message number 89\n",
            "DEBUG:MyLogger:Log message number 90\n",
            "DEBUG:MyLogger:Log message number 91\n",
            "DEBUG:MyLogger:Log message number 92\n",
            "DEBUG:MyLogger:Log message number 93\n",
            "DEBUG:MyLogger:Log message number 94\n",
            "DEBUG:MyLogger:Log message number 95\n",
            "DEBUG:MyLogger:Log message number 96\n",
            "DEBUG:MyLogger:Log message number 97\n",
            "DEBUG:MyLogger:Log message number 98\n",
            "DEBUG:MyLogger:Log message number 99\n",
            "DEBUG:MyLogger:Log message number 100\n",
            "DEBUG:MyLogger:Log message number 101\n",
            "DEBUG:MyLogger:Log message number 102\n",
            "DEBUG:MyLogger:Log message number 103\n",
            "DEBUG:MyLogger:Log message number 104\n",
            "DEBUG:MyLogger:Log message number 105\n",
            "DEBUG:MyLogger:Log message number 106\n",
            "DEBUG:MyLogger:Log message number 107\n",
            "DEBUG:MyLogger:Log message number 108\n",
            "DEBUG:MyLogger:Log message number 109\n",
            "DEBUG:MyLogger:Log message number 110\n",
            "DEBUG:MyLogger:Log message number 111\n",
            "DEBUG:MyLogger:Log message number 112\n",
            "DEBUG:MyLogger:Log message number 113\n",
            "DEBUG:MyLogger:Log message number 114\n",
            "DEBUG:MyLogger:Log message number 115\n",
            "DEBUG:MyLogger:Log message number 116\n",
            "DEBUG:MyLogger:Log message number 117\n",
            "DEBUG:MyLogger:Log message number 118\n",
            "DEBUG:MyLogger:Log message number 119\n",
            "DEBUG:MyLogger:Log message number 120\n",
            "DEBUG:MyLogger:Log message number 121\n",
            "DEBUG:MyLogger:Log message number 122\n",
            "DEBUG:MyLogger:Log message number 123\n",
            "DEBUG:MyLogger:Log message number 124\n",
            "DEBUG:MyLogger:Log message number 125\n",
            "DEBUG:MyLogger:Log message number 126\n",
            "DEBUG:MyLogger:Log message number 127\n",
            "DEBUG:MyLogger:Log message number 128\n",
            "DEBUG:MyLogger:Log message number 129\n",
            "DEBUG:MyLogger:Log message number 130\n",
            "DEBUG:MyLogger:Log message number 131\n",
            "DEBUG:MyLogger:Log message number 132\n",
            "DEBUG:MyLogger:Log message number 133\n",
            "DEBUG:MyLogger:Log message number 134\n",
            "DEBUG:MyLogger:Log message number 135\n",
            "DEBUG:MyLogger:Log message number 136\n",
            "DEBUG:MyLogger:Log message number 137\n",
            "DEBUG:MyLogger:Log message number 138\n",
            "DEBUG:MyLogger:Log message number 139\n",
            "DEBUG:MyLogger:Log message number 140\n",
            "DEBUG:MyLogger:Log message number 141\n",
            "DEBUG:MyLogger:Log message number 142\n",
            "DEBUG:MyLogger:Log message number 143\n",
            "DEBUG:MyLogger:Log message number 144\n",
            "DEBUG:MyLogger:Log message number 145\n",
            "DEBUG:MyLogger:Log message number 146\n",
            "DEBUG:MyLogger:Log message number 147\n",
            "DEBUG:MyLogger:Log message number 148\n",
            "DEBUG:MyLogger:Log message number 149\n",
            "DEBUG:MyLogger:Log message number 150\n",
            "DEBUG:MyLogger:Log message number 151\n",
            "DEBUG:MyLogger:Log message number 152\n",
            "DEBUG:MyLogger:Log message number 153\n",
            "DEBUG:MyLogger:Log message number 154\n",
            "DEBUG:MyLogger:Log message number 155\n",
            "DEBUG:MyLogger:Log message number 156\n",
            "DEBUG:MyLogger:Log message number 157\n",
            "DEBUG:MyLogger:Log message number 158\n",
            "DEBUG:MyLogger:Log message number 159\n",
            "DEBUG:MyLogger:Log message number 160\n",
            "DEBUG:MyLogger:Log message number 161\n",
            "DEBUG:MyLogger:Log message number 162\n",
            "DEBUG:MyLogger:Log message number 163\n",
            "DEBUG:MyLogger:Log message number 164\n",
            "DEBUG:MyLogger:Log message number 165\n",
            "DEBUG:MyLogger:Log message number 166\n",
            "DEBUG:MyLogger:Log message number 167\n",
            "DEBUG:MyLogger:Log message number 168\n",
            "DEBUG:MyLogger:Log message number 169\n",
            "DEBUG:MyLogger:Log message number 170\n",
            "DEBUG:MyLogger:Log message number 171\n",
            "DEBUG:MyLogger:Log message number 172\n",
            "DEBUG:MyLogger:Log message number 173\n",
            "DEBUG:MyLogger:Log message number 174\n",
            "DEBUG:MyLogger:Log message number 175\n",
            "DEBUG:MyLogger:Log message number 176\n",
            "DEBUG:MyLogger:Log message number 177\n",
            "DEBUG:MyLogger:Log message number 178\n",
            "DEBUG:MyLogger:Log message number 179\n",
            "DEBUG:MyLogger:Log message number 180\n",
            "DEBUG:MyLogger:Log message number 181\n",
            "DEBUG:MyLogger:Log message number 182\n",
            "DEBUG:MyLogger:Log message number 183\n",
            "DEBUG:MyLogger:Log message number 184\n",
            "DEBUG:MyLogger:Log message number 185\n",
            "DEBUG:MyLogger:Log message number 186\n",
            "DEBUG:MyLogger:Log message number 187\n",
            "DEBUG:MyLogger:Log message number 188\n",
            "DEBUG:MyLogger:Log message number 189\n",
            "DEBUG:MyLogger:Log message number 190\n",
            "DEBUG:MyLogger:Log message number 191\n",
            "DEBUG:MyLogger:Log message number 192\n",
            "DEBUG:MyLogger:Log message number 193\n",
            "DEBUG:MyLogger:Log message number 194\n",
            "DEBUG:MyLogger:Log message number 195\n",
            "DEBUG:MyLogger:Log message number 196\n",
            "DEBUG:MyLogger:Log message number 197\n",
            "DEBUG:MyLogger:Log message number 198\n",
            "DEBUG:MyLogger:Log message number 199\n",
            "DEBUG:MyLogger:Log message number 200\n",
            "DEBUG:MyLogger:Log message number 201\n",
            "DEBUG:MyLogger:Log message number 202\n",
            "DEBUG:MyLogger:Log message number 203\n",
            "DEBUG:MyLogger:Log message number 204\n",
            "DEBUG:MyLogger:Log message number 205\n",
            "DEBUG:MyLogger:Log message number 206\n",
            "DEBUG:MyLogger:Log message number 207\n",
            "DEBUG:MyLogger:Log message number 208\n",
            "DEBUG:MyLogger:Log message number 209\n",
            "DEBUG:MyLogger:Log message number 210\n",
            "DEBUG:MyLogger:Log message number 211\n",
            "DEBUG:MyLogger:Log message number 212\n",
            "DEBUG:MyLogger:Log message number 213\n",
            "DEBUG:MyLogger:Log message number 214\n",
            "DEBUG:MyLogger:Log message number 215\n",
            "DEBUG:MyLogger:Log message number 216\n",
            "DEBUG:MyLogger:Log message number 217\n",
            "DEBUG:MyLogger:Log message number 218\n",
            "DEBUG:MyLogger:Log message number 219\n",
            "DEBUG:MyLogger:Log message number 220\n",
            "DEBUG:MyLogger:Log message number 221\n",
            "DEBUG:MyLogger:Log message number 222\n",
            "DEBUG:MyLogger:Log message number 223\n",
            "DEBUG:MyLogger:Log message number 224\n",
            "DEBUG:MyLogger:Log message number 225\n",
            "DEBUG:MyLogger:Log message number 226\n",
            "DEBUG:MyLogger:Log message number 227\n",
            "DEBUG:MyLogger:Log message number 228\n",
            "DEBUG:MyLogger:Log message number 229\n",
            "DEBUG:MyLogger:Log message number 230\n",
            "DEBUG:MyLogger:Log message number 231\n",
            "DEBUG:MyLogger:Log message number 232\n",
            "DEBUG:MyLogger:Log message number 233\n",
            "DEBUG:MyLogger:Log message number 234\n",
            "DEBUG:MyLogger:Log message number 235\n",
            "DEBUG:MyLogger:Log message number 236\n",
            "DEBUG:MyLogger:Log message number 237\n",
            "DEBUG:MyLogger:Log message number 238\n",
            "DEBUG:MyLogger:Log message number 239\n",
            "DEBUG:MyLogger:Log message number 240\n",
            "DEBUG:MyLogger:Log message number 241\n",
            "DEBUG:MyLogger:Log message number 242\n",
            "DEBUG:MyLogger:Log message number 243\n",
            "DEBUG:MyLogger:Log message number 244\n",
            "DEBUG:MyLogger:Log message number 245\n",
            "DEBUG:MyLogger:Log message number 246\n",
            "DEBUG:MyLogger:Log message number 247\n",
            "DEBUG:MyLogger:Log message number 248\n",
            "DEBUG:MyLogger:Log message number 249\n",
            "DEBUG:MyLogger:Log message number 250\n",
            "DEBUG:MyLogger:Log message number 251\n",
            "DEBUG:MyLogger:Log message number 252\n",
            "DEBUG:MyLogger:Log message number 253\n",
            "DEBUG:MyLogger:Log message number 254\n",
            "DEBUG:MyLogger:Log message number 255\n",
            "DEBUG:MyLogger:Log message number 256\n",
            "DEBUG:MyLogger:Log message number 257\n",
            "DEBUG:MyLogger:Log message number 258\n",
            "DEBUG:MyLogger:Log message number 259\n",
            "DEBUG:MyLogger:Log message number 260\n",
            "DEBUG:MyLogger:Log message number 261\n",
            "DEBUG:MyLogger:Log message number 262\n",
            "DEBUG:MyLogger:Log message number 263\n",
            "DEBUG:MyLogger:Log message number 264\n",
            "DEBUG:MyLogger:Log message number 265\n",
            "DEBUG:MyLogger:Log message number 266\n",
            "DEBUG:MyLogger:Log message number 267\n",
            "DEBUG:MyLogger:Log message number 268\n",
            "DEBUG:MyLogger:Log message number 269\n",
            "DEBUG:MyLogger:Log message number 270\n",
            "DEBUG:MyLogger:Log message number 271\n",
            "DEBUG:MyLogger:Log message number 272\n",
            "DEBUG:MyLogger:Log message number 273\n",
            "DEBUG:MyLogger:Log message number 274\n",
            "DEBUG:MyLogger:Log message number 275\n",
            "DEBUG:MyLogger:Log message number 276\n",
            "DEBUG:MyLogger:Log message number 277\n",
            "DEBUG:MyLogger:Log message number 278\n",
            "DEBUG:MyLogger:Log message number 279\n",
            "DEBUG:MyLogger:Log message number 280\n",
            "DEBUG:MyLogger:Log message number 281\n",
            "DEBUG:MyLogger:Log message number 282\n",
            "DEBUG:MyLogger:Log message number 283\n",
            "DEBUG:MyLogger:Log message number 284\n",
            "DEBUG:MyLogger:Log message number 285\n",
            "DEBUG:MyLogger:Log message number 286\n",
            "DEBUG:MyLogger:Log message number 287\n",
            "DEBUG:MyLogger:Log message number 288\n",
            "DEBUG:MyLogger:Log message number 289\n",
            "DEBUG:MyLogger:Log message number 290\n",
            "DEBUG:MyLogger:Log message number 291\n",
            "DEBUG:MyLogger:Log message number 292\n",
            "DEBUG:MyLogger:Log message number 293\n",
            "DEBUG:MyLogger:Log message number 294\n",
            "DEBUG:MyLogger:Log message number 295\n",
            "DEBUG:MyLogger:Log message number 296\n",
            "DEBUG:MyLogger:Log message number 297\n",
            "DEBUG:MyLogger:Log message number 298\n",
            "DEBUG:MyLogger:Log message number 299\n",
            "DEBUG:MyLogger:Log message number 300\n",
            "DEBUG:MyLogger:Log message number 301\n",
            "DEBUG:MyLogger:Log message number 302\n",
            "DEBUG:MyLogger:Log message number 303\n",
            "DEBUG:MyLogger:Log message number 304\n",
            "DEBUG:MyLogger:Log message number 305\n",
            "DEBUG:MyLogger:Log message number 306\n",
            "DEBUG:MyLogger:Log message number 307\n",
            "DEBUG:MyLogger:Log message number 308\n",
            "DEBUG:MyLogger:Log message number 309\n",
            "DEBUG:MyLogger:Log message number 310\n",
            "DEBUG:MyLogger:Log message number 311\n",
            "DEBUG:MyLogger:Log message number 312\n",
            "DEBUG:MyLogger:Log message number 313\n",
            "DEBUG:MyLogger:Log message number 314\n",
            "DEBUG:MyLogger:Log message number 315\n",
            "DEBUG:MyLogger:Log message number 316\n",
            "DEBUG:MyLogger:Log message number 317\n",
            "DEBUG:MyLogger:Log message number 318\n",
            "DEBUG:MyLogger:Log message number 319\n",
            "DEBUG:MyLogger:Log message number 320\n",
            "DEBUG:MyLogger:Log message number 321\n",
            "DEBUG:MyLogger:Log message number 322\n",
            "DEBUG:MyLogger:Log message number 323\n",
            "DEBUG:MyLogger:Log message number 324\n",
            "DEBUG:MyLogger:Log message number 325\n",
            "DEBUG:MyLogger:Log message number 326\n",
            "DEBUG:MyLogger:Log message number 327\n",
            "DEBUG:MyLogger:Log message number 328\n",
            "DEBUG:MyLogger:Log message number 329\n",
            "DEBUG:MyLogger:Log message number 330\n",
            "DEBUG:MyLogger:Log message number 331\n",
            "DEBUG:MyLogger:Log message number 332\n",
            "DEBUG:MyLogger:Log message number 333\n",
            "DEBUG:MyLogger:Log message number 334\n",
            "DEBUG:MyLogger:Log message number 335\n",
            "DEBUG:MyLogger:Log message number 336\n",
            "DEBUG:MyLogger:Log message number 337\n",
            "DEBUG:MyLogger:Log message number 338\n",
            "DEBUG:MyLogger:Log message number 339\n",
            "DEBUG:MyLogger:Log message number 340\n",
            "DEBUG:MyLogger:Log message number 341\n",
            "DEBUG:MyLogger:Log message number 342\n",
            "DEBUG:MyLogger:Log message number 343\n",
            "DEBUG:MyLogger:Log message number 344\n",
            "DEBUG:MyLogger:Log message number 345\n",
            "DEBUG:MyLogger:Log message number 346\n",
            "DEBUG:MyLogger:Log message number 347\n",
            "DEBUG:MyLogger:Log message number 348\n",
            "DEBUG:MyLogger:Log message number 349\n",
            "DEBUG:MyLogger:Log message number 350\n",
            "DEBUG:MyLogger:Log message number 351\n",
            "DEBUG:MyLogger:Log message number 352\n",
            "DEBUG:MyLogger:Log message number 353\n",
            "DEBUG:MyLogger:Log message number 354\n",
            "DEBUG:MyLogger:Log message number 355\n",
            "DEBUG:MyLogger:Log message number 356\n",
            "DEBUG:MyLogger:Log message number 357\n",
            "DEBUG:MyLogger:Log message number 358\n",
            "DEBUG:MyLogger:Log message number 359\n",
            "DEBUG:MyLogger:Log message number 360\n",
            "DEBUG:MyLogger:Log message number 361\n",
            "DEBUG:MyLogger:Log message number 362\n",
            "DEBUG:MyLogger:Log message number 363\n",
            "DEBUG:MyLogger:Log message number 364\n",
            "DEBUG:MyLogger:Log message number 365\n",
            "DEBUG:MyLogger:Log message number 366\n",
            "DEBUG:MyLogger:Log message number 367\n",
            "DEBUG:MyLogger:Log message number 368\n",
            "DEBUG:MyLogger:Log message number 369\n",
            "DEBUG:MyLogger:Log message number 370\n",
            "DEBUG:MyLogger:Log message number 371\n",
            "DEBUG:MyLogger:Log message number 372\n",
            "DEBUG:MyLogger:Log message number 373\n",
            "DEBUG:MyLogger:Log message number 374\n",
            "DEBUG:MyLogger:Log message number 375\n",
            "DEBUG:MyLogger:Log message number 376\n",
            "DEBUG:MyLogger:Log message number 377\n",
            "DEBUG:MyLogger:Log message number 378\n",
            "DEBUG:MyLogger:Log message number 379\n",
            "DEBUG:MyLogger:Log message number 380\n",
            "DEBUG:MyLogger:Log message number 381\n",
            "DEBUG:MyLogger:Log message number 382\n",
            "DEBUG:MyLogger:Log message number 383\n",
            "DEBUG:MyLogger:Log message number 384\n",
            "DEBUG:MyLogger:Log message number 385\n",
            "DEBUG:MyLogger:Log message number 386\n",
            "DEBUG:MyLogger:Log message number 387\n",
            "DEBUG:MyLogger:Log message number 388\n",
            "DEBUG:MyLogger:Log message number 389\n",
            "DEBUG:MyLogger:Log message number 390\n",
            "DEBUG:MyLogger:Log message number 391\n",
            "DEBUG:MyLogger:Log message number 392\n",
            "DEBUG:MyLogger:Log message number 393\n",
            "DEBUG:MyLogger:Log message number 394\n",
            "DEBUG:MyLogger:Log message number 395\n",
            "DEBUG:MyLogger:Log message number 396\n",
            "DEBUG:MyLogger:Log message number 397\n",
            "DEBUG:MyLogger:Log message number 398\n",
            "DEBUG:MyLogger:Log message number 399\n",
            "DEBUG:MyLogger:Log message number 400\n",
            "DEBUG:MyLogger:Log message number 401\n",
            "DEBUG:MyLogger:Log message number 402\n",
            "DEBUG:MyLogger:Log message number 403\n",
            "DEBUG:MyLogger:Log message number 404\n",
            "DEBUG:MyLogger:Log message number 405\n",
            "DEBUG:MyLogger:Log message number 406\n",
            "DEBUG:MyLogger:Log message number 407\n",
            "DEBUG:MyLogger:Log message number 408\n",
            "DEBUG:MyLogger:Log message number 409\n",
            "DEBUG:MyLogger:Log message number 410\n",
            "DEBUG:MyLogger:Log message number 411\n",
            "DEBUG:MyLogger:Log message number 412\n",
            "DEBUG:MyLogger:Log message number 413\n",
            "DEBUG:MyLogger:Log message number 414\n",
            "DEBUG:MyLogger:Log message number 415\n",
            "DEBUG:MyLogger:Log message number 416\n",
            "DEBUG:MyLogger:Log message number 417\n",
            "DEBUG:MyLogger:Log message number 418\n",
            "DEBUG:MyLogger:Log message number 419\n",
            "DEBUG:MyLogger:Log message number 420\n",
            "DEBUG:MyLogger:Log message number 421\n",
            "DEBUG:MyLogger:Log message number 422\n",
            "DEBUG:MyLogger:Log message number 423\n",
            "DEBUG:MyLogger:Log message number 424\n",
            "DEBUG:MyLogger:Log message number 425\n",
            "DEBUG:MyLogger:Log message number 426\n",
            "DEBUG:MyLogger:Log message number 427\n",
            "DEBUG:MyLogger:Log message number 428\n",
            "DEBUG:MyLogger:Log message number 429\n",
            "DEBUG:MyLogger:Log message number 430\n",
            "DEBUG:MyLogger:Log message number 431\n",
            "DEBUG:MyLogger:Log message number 432\n",
            "DEBUG:MyLogger:Log message number 433\n",
            "DEBUG:MyLogger:Log message number 434\n",
            "DEBUG:MyLogger:Log message number 435\n",
            "DEBUG:MyLogger:Log message number 436\n",
            "DEBUG:MyLogger:Log message number 437\n",
            "DEBUG:MyLogger:Log message number 438\n",
            "DEBUG:MyLogger:Log message number 439\n",
            "DEBUG:MyLogger:Log message number 440\n",
            "DEBUG:MyLogger:Log message number 441\n",
            "DEBUG:MyLogger:Log message number 442\n",
            "DEBUG:MyLogger:Log message number 443\n",
            "DEBUG:MyLogger:Log message number 444\n",
            "DEBUG:MyLogger:Log message number 445\n",
            "DEBUG:MyLogger:Log message number 446\n",
            "DEBUG:MyLogger:Log message number 447\n",
            "DEBUG:MyLogger:Log message number 448\n",
            "DEBUG:MyLogger:Log message number 449\n",
            "DEBUG:MyLogger:Log message number 450\n",
            "DEBUG:MyLogger:Log message number 451\n",
            "DEBUG:MyLogger:Log message number 452\n",
            "DEBUG:MyLogger:Log message number 453\n",
            "DEBUG:MyLogger:Log message number 454\n",
            "DEBUG:MyLogger:Log message number 455\n",
            "DEBUG:MyLogger:Log message number 456\n",
            "DEBUG:MyLogger:Log message number 457\n",
            "DEBUG:MyLogger:Log message number 458\n",
            "DEBUG:MyLogger:Log message number 459\n",
            "DEBUG:MyLogger:Log message number 460\n",
            "DEBUG:MyLogger:Log message number 461\n",
            "DEBUG:MyLogger:Log message number 462\n",
            "DEBUG:MyLogger:Log message number 463\n",
            "DEBUG:MyLogger:Log message number 464\n",
            "DEBUG:MyLogger:Log message number 465\n",
            "DEBUG:MyLogger:Log message number 466\n",
            "DEBUG:MyLogger:Log message number 467\n",
            "DEBUG:MyLogger:Log message number 468\n",
            "DEBUG:MyLogger:Log message number 469\n",
            "DEBUG:MyLogger:Log message number 470\n",
            "DEBUG:MyLogger:Log message number 471\n",
            "DEBUG:MyLogger:Log message number 472\n",
            "DEBUG:MyLogger:Log message number 473\n",
            "DEBUG:MyLogger:Log message number 474\n",
            "DEBUG:MyLogger:Log message number 475\n",
            "DEBUG:MyLogger:Log message number 476\n",
            "DEBUG:MyLogger:Log message number 477\n",
            "DEBUG:MyLogger:Log message number 478\n",
            "DEBUG:MyLogger:Log message number 479\n",
            "DEBUG:MyLogger:Log message number 480\n",
            "DEBUG:MyLogger:Log message number 481\n",
            "DEBUG:MyLogger:Log message number 482\n",
            "DEBUG:MyLogger:Log message number 483\n",
            "DEBUG:MyLogger:Log message number 484\n",
            "DEBUG:MyLogger:Log message number 485\n",
            "DEBUG:MyLogger:Log message number 486\n",
            "DEBUG:MyLogger:Log message number 487\n",
            "DEBUG:MyLogger:Log message number 488\n",
            "DEBUG:MyLogger:Log message number 489\n",
            "DEBUG:MyLogger:Log message number 490\n",
            "DEBUG:MyLogger:Log message number 491\n",
            "DEBUG:MyLogger:Log message number 492\n",
            "DEBUG:MyLogger:Log message number 493\n",
            "DEBUG:MyLogger:Log message number 494\n",
            "DEBUG:MyLogger:Log message number 495\n",
            "DEBUG:MyLogger:Log message number 496\n",
            "DEBUG:MyLogger:Log message number 497\n",
            "DEBUG:MyLogger:Log message number 498\n",
            "DEBUG:MyLogger:Log message number 499\n",
            "DEBUG:MyLogger:Log message number 500\n",
            "DEBUG:MyLogger:Log message number 501\n",
            "DEBUG:MyLogger:Log message number 502\n",
            "DEBUG:MyLogger:Log message number 503\n",
            "DEBUG:MyLogger:Log message number 504\n",
            "DEBUG:MyLogger:Log message number 505\n",
            "DEBUG:MyLogger:Log message number 506\n",
            "DEBUG:MyLogger:Log message number 507\n",
            "DEBUG:MyLogger:Log message number 508\n",
            "DEBUG:MyLogger:Log message number 509\n",
            "DEBUG:MyLogger:Log message number 510\n",
            "DEBUG:MyLogger:Log message number 511\n",
            "DEBUG:MyLogger:Log message number 512\n",
            "DEBUG:MyLogger:Log message number 513\n",
            "DEBUG:MyLogger:Log message number 514\n",
            "DEBUG:MyLogger:Log message number 515\n",
            "DEBUG:MyLogger:Log message number 516\n",
            "DEBUG:MyLogger:Log message number 517\n",
            "DEBUG:MyLogger:Log message number 518\n",
            "DEBUG:MyLogger:Log message number 519\n",
            "DEBUG:MyLogger:Log message number 520\n",
            "DEBUG:MyLogger:Log message number 521\n",
            "DEBUG:MyLogger:Log message number 522\n",
            "DEBUG:MyLogger:Log message number 523\n",
            "DEBUG:MyLogger:Log message number 524\n",
            "DEBUG:MyLogger:Log message number 525\n",
            "DEBUG:MyLogger:Log message number 526\n",
            "DEBUG:MyLogger:Log message number 527\n",
            "DEBUG:MyLogger:Log message number 528\n",
            "DEBUG:MyLogger:Log message number 529\n",
            "DEBUG:MyLogger:Log message number 530\n",
            "DEBUG:MyLogger:Log message number 531\n",
            "DEBUG:MyLogger:Log message number 532\n",
            "DEBUG:MyLogger:Log message number 533\n",
            "DEBUG:MyLogger:Log message number 534\n",
            "DEBUG:MyLogger:Log message number 535\n",
            "DEBUG:MyLogger:Log message number 536\n",
            "DEBUG:MyLogger:Log message number 537\n",
            "DEBUG:MyLogger:Log message number 538\n",
            "DEBUG:MyLogger:Log message number 539\n",
            "DEBUG:MyLogger:Log message number 540\n",
            "DEBUG:MyLogger:Log message number 541\n",
            "DEBUG:MyLogger:Log message number 542\n",
            "DEBUG:MyLogger:Log message number 543\n",
            "DEBUG:MyLogger:Log message number 544\n",
            "DEBUG:MyLogger:Log message number 545\n",
            "DEBUG:MyLogger:Log message number 546\n",
            "DEBUG:MyLogger:Log message number 547\n",
            "DEBUG:MyLogger:Log message number 548\n",
            "DEBUG:MyLogger:Log message number 549\n",
            "DEBUG:MyLogger:Log message number 550\n",
            "DEBUG:MyLogger:Log message number 551\n",
            "DEBUG:MyLogger:Log message number 552\n",
            "DEBUG:MyLogger:Log message number 553\n",
            "DEBUG:MyLogger:Log message number 554\n",
            "DEBUG:MyLogger:Log message number 555\n",
            "DEBUG:MyLogger:Log message number 556\n",
            "DEBUG:MyLogger:Log message number 557\n",
            "DEBUG:MyLogger:Log message number 558\n",
            "DEBUG:MyLogger:Log message number 559\n",
            "DEBUG:MyLogger:Log message number 560\n",
            "DEBUG:MyLogger:Log message number 561\n",
            "DEBUG:MyLogger:Log message number 562\n",
            "DEBUG:MyLogger:Log message number 563\n",
            "DEBUG:MyLogger:Log message number 564\n",
            "DEBUG:MyLogger:Log message number 565\n",
            "DEBUG:MyLogger:Log message number 566\n",
            "DEBUG:MyLogger:Log message number 567\n",
            "DEBUG:MyLogger:Log message number 568\n",
            "DEBUG:MyLogger:Log message number 569\n",
            "DEBUG:MyLogger:Log message number 570\n",
            "DEBUG:MyLogger:Log message number 571\n",
            "DEBUG:MyLogger:Log message number 572\n",
            "DEBUG:MyLogger:Log message number 573\n",
            "DEBUG:MyLogger:Log message number 574\n",
            "DEBUG:MyLogger:Log message number 575\n",
            "DEBUG:MyLogger:Log message number 576\n",
            "DEBUG:MyLogger:Log message number 577\n",
            "DEBUG:MyLogger:Log message number 578\n",
            "DEBUG:MyLogger:Log message number 579\n",
            "DEBUG:MyLogger:Log message number 580\n",
            "DEBUG:MyLogger:Log message number 581\n",
            "DEBUG:MyLogger:Log message number 582\n",
            "DEBUG:MyLogger:Log message number 583\n",
            "DEBUG:MyLogger:Log message number 584\n",
            "DEBUG:MyLogger:Log message number 585\n",
            "DEBUG:MyLogger:Log message number 586\n",
            "DEBUG:MyLogger:Log message number 587\n",
            "DEBUG:MyLogger:Log message number 588\n",
            "DEBUG:MyLogger:Log message number 589\n",
            "DEBUG:MyLogger:Log message number 590\n",
            "DEBUG:MyLogger:Log message number 591\n",
            "DEBUG:MyLogger:Log message number 592\n",
            "DEBUG:MyLogger:Log message number 593\n",
            "DEBUG:MyLogger:Log message number 594\n",
            "DEBUG:MyLogger:Log message number 595\n",
            "DEBUG:MyLogger:Log message number 596\n",
            "DEBUG:MyLogger:Log message number 597\n",
            "DEBUG:MyLogger:Log message number 598\n",
            "DEBUG:MyLogger:Log message number 599\n",
            "DEBUG:MyLogger:Log message number 600\n",
            "DEBUG:MyLogger:Log message number 601\n",
            "DEBUG:MyLogger:Log message number 602\n",
            "DEBUG:MyLogger:Log message number 603\n",
            "DEBUG:MyLogger:Log message number 604\n",
            "DEBUG:MyLogger:Log message number 605\n",
            "DEBUG:MyLogger:Log message number 606\n",
            "DEBUG:MyLogger:Log message number 607\n",
            "DEBUG:MyLogger:Log message number 608\n",
            "DEBUG:MyLogger:Log message number 609\n",
            "DEBUG:MyLogger:Log message number 610\n",
            "DEBUG:MyLogger:Log message number 611\n",
            "DEBUG:MyLogger:Log message number 612\n",
            "DEBUG:MyLogger:Log message number 613\n",
            "DEBUG:MyLogger:Log message number 614\n",
            "DEBUG:MyLogger:Log message number 615\n",
            "DEBUG:MyLogger:Log message number 616\n",
            "DEBUG:MyLogger:Log message number 617\n",
            "DEBUG:MyLogger:Log message number 618\n",
            "DEBUG:MyLogger:Log message number 619\n",
            "DEBUG:MyLogger:Log message number 620\n",
            "DEBUG:MyLogger:Log message number 621\n",
            "DEBUG:MyLogger:Log message number 622\n",
            "DEBUG:MyLogger:Log message number 623\n",
            "DEBUG:MyLogger:Log message number 624\n",
            "DEBUG:MyLogger:Log message number 625\n",
            "DEBUG:MyLogger:Log message number 626\n",
            "DEBUG:MyLogger:Log message number 627\n",
            "DEBUG:MyLogger:Log message number 628\n",
            "DEBUG:MyLogger:Log message number 629\n",
            "DEBUG:MyLogger:Log message number 630\n",
            "DEBUG:MyLogger:Log message number 631\n",
            "DEBUG:MyLogger:Log message number 632\n",
            "DEBUG:MyLogger:Log message number 633\n",
            "DEBUG:MyLogger:Log message number 634\n",
            "DEBUG:MyLogger:Log message number 635\n",
            "DEBUG:MyLogger:Log message number 636\n",
            "DEBUG:MyLogger:Log message number 637\n",
            "DEBUG:MyLogger:Log message number 638\n",
            "DEBUG:MyLogger:Log message number 639\n",
            "DEBUG:MyLogger:Log message number 640\n",
            "DEBUG:MyLogger:Log message number 641\n",
            "DEBUG:MyLogger:Log message number 642\n",
            "DEBUG:MyLogger:Log message number 643\n",
            "DEBUG:MyLogger:Log message number 644\n",
            "DEBUG:MyLogger:Log message number 645\n",
            "DEBUG:MyLogger:Log message number 646\n",
            "DEBUG:MyLogger:Log message number 647\n",
            "DEBUG:MyLogger:Log message number 648\n",
            "DEBUG:MyLogger:Log message number 649\n",
            "DEBUG:MyLogger:Log message number 650\n",
            "DEBUG:MyLogger:Log message number 651\n",
            "DEBUG:MyLogger:Log message number 652\n",
            "DEBUG:MyLogger:Log message number 653\n",
            "DEBUG:MyLogger:Log message number 654\n",
            "DEBUG:MyLogger:Log message number 655\n",
            "DEBUG:MyLogger:Log message number 656\n",
            "DEBUG:MyLogger:Log message number 657\n",
            "DEBUG:MyLogger:Log message number 658\n",
            "DEBUG:MyLogger:Log message number 659\n",
            "DEBUG:MyLogger:Log message number 660\n",
            "DEBUG:MyLogger:Log message number 661\n",
            "DEBUG:MyLogger:Log message number 662\n",
            "DEBUG:MyLogger:Log message number 663\n",
            "DEBUG:MyLogger:Log message number 664\n",
            "DEBUG:MyLogger:Log message number 665\n",
            "DEBUG:MyLogger:Log message number 666\n",
            "DEBUG:MyLogger:Log message number 667\n",
            "DEBUG:MyLogger:Log message number 668\n",
            "DEBUG:MyLogger:Log message number 669\n",
            "DEBUG:MyLogger:Log message number 670\n",
            "DEBUG:MyLogger:Log message number 671\n",
            "DEBUG:MyLogger:Log message number 672\n",
            "DEBUG:MyLogger:Log message number 673\n",
            "DEBUG:MyLogger:Log message number 674\n",
            "DEBUG:MyLogger:Log message number 675\n",
            "DEBUG:MyLogger:Log message number 676\n",
            "DEBUG:MyLogger:Log message number 677\n",
            "DEBUG:MyLogger:Log message number 678\n",
            "DEBUG:MyLogger:Log message number 679\n",
            "DEBUG:MyLogger:Log message number 680\n",
            "DEBUG:MyLogger:Log message number 681\n",
            "DEBUG:MyLogger:Log message number 682\n",
            "DEBUG:MyLogger:Log message number 683\n",
            "DEBUG:MyLogger:Log message number 684\n",
            "DEBUG:MyLogger:Log message number 685\n",
            "DEBUG:MyLogger:Log message number 686\n",
            "DEBUG:MyLogger:Log message number 687\n",
            "DEBUG:MyLogger:Log message number 688\n",
            "DEBUG:MyLogger:Log message number 689\n",
            "DEBUG:MyLogger:Log message number 690\n",
            "DEBUG:MyLogger:Log message number 691\n",
            "DEBUG:MyLogger:Log message number 692\n",
            "DEBUG:MyLogger:Log message number 693\n",
            "DEBUG:MyLogger:Log message number 694\n",
            "DEBUG:MyLogger:Log message number 695\n",
            "DEBUG:MyLogger:Log message number 696\n",
            "DEBUG:MyLogger:Log message number 697\n",
            "DEBUG:MyLogger:Log message number 698\n",
            "DEBUG:MyLogger:Log message number 699\n",
            "DEBUG:MyLogger:Log message number 700\n",
            "DEBUG:MyLogger:Log message number 701\n",
            "DEBUG:MyLogger:Log message number 702\n",
            "DEBUG:MyLogger:Log message number 703\n",
            "DEBUG:MyLogger:Log message number 704\n",
            "DEBUG:MyLogger:Log message number 705\n",
            "DEBUG:MyLogger:Log message number 706\n",
            "DEBUG:MyLogger:Log message number 707\n",
            "DEBUG:MyLogger:Log message number 708\n",
            "DEBUG:MyLogger:Log message number 709\n",
            "DEBUG:MyLogger:Log message number 710\n",
            "DEBUG:MyLogger:Log message number 711\n",
            "DEBUG:MyLogger:Log message number 712\n",
            "DEBUG:MyLogger:Log message number 713\n",
            "DEBUG:MyLogger:Log message number 714\n",
            "DEBUG:MyLogger:Log message number 715\n",
            "DEBUG:MyLogger:Log message number 716\n",
            "DEBUG:MyLogger:Log message number 717\n",
            "DEBUG:MyLogger:Log message number 718\n",
            "DEBUG:MyLogger:Log message number 719\n",
            "DEBUG:MyLogger:Log message number 720\n",
            "DEBUG:MyLogger:Log message number 721\n",
            "DEBUG:MyLogger:Log message number 722\n",
            "DEBUG:MyLogger:Log message number 723\n",
            "DEBUG:MyLogger:Log message number 724\n",
            "DEBUG:MyLogger:Log message number 725\n",
            "DEBUG:MyLogger:Log message number 726\n",
            "DEBUG:MyLogger:Log message number 727\n",
            "DEBUG:MyLogger:Log message number 728\n",
            "DEBUG:MyLogger:Log message number 729\n",
            "DEBUG:MyLogger:Log message number 730\n",
            "DEBUG:MyLogger:Log message number 731\n",
            "DEBUG:MyLogger:Log message number 732\n",
            "DEBUG:MyLogger:Log message number 733\n",
            "DEBUG:MyLogger:Log message number 734\n",
            "DEBUG:MyLogger:Log message number 735\n",
            "DEBUG:MyLogger:Log message number 736\n",
            "DEBUG:MyLogger:Log message number 737\n",
            "DEBUG:MyLogger:Log message number 738\n",
            "DEBUG:MyLogger:Log message number 739\n",
            "DEBUG:MyLogger:Log message number 740\n",
            "DEBUG:MyLogger:Log message number 741\n",
            "DEBUG:MyLogger:Log message number 742\n",
            "DEBUG:MyLogger:Log message number 743\n",
            "DEBUG:MyLogger:Log message number 744\n",
            "DEBUG:MyLogger:Log message number 745\n",
            "DEBUG:MyLogger:Log message number 746\n",
            "DEBUG:MyLogger:Log message number 747\n",
            "DEBUG:MyLogger:Log message number 748\n",
            "DEBUG:MyLogger:Log message number 749\n",
            "DEBUG:MyLogger:Log message number 750\n",
            "DEBUG:MyLogger:Log message number 751\n",
            "DEBUG:MyLogger:Log message number 752\n",
            "DEBUG:MyLogger:Log message number 753\n",
            "DEBUG:MyLogger:Log message number 754\n",
            "DEBUG:MyLogger:Log message number 755\n",
            "DEBUG:MyLogger:Log message number 756\n",
            "DEBUG:MyLogger:Log message number 757\n",
            "DEBUG:MyLogger:Log message number 758\n",
            "DEBUG:MyLogger:Log message number 759\n",
            "DEBUG:MyLogger:Log message number 760\n",
            "DEBUG:MyLogger:Log message number 761\n",
            "DEBUG:MyLogger:Log message number 762\n",
            "DEBUG:MyLogger:Log message number 763\n",
            "DEBUG:MyLogger:Log message number 764\n",
            "DEBUG:MyLogger:Log message number 765\n",
            "DEBUG:MyLogger:Log message number 766\n",
            "DEBUG:MyLogger:Log message number 767\n",
            "DEBUG:MyLogger:Log message number 768\n",
            "DEBUG:MyLogger:Log message number 769\n",
            "DEBUG:MyLogger:Log message number 770\n",
            "DEBUG:MyLogger:Log message number 771\n",
            "DEBUG:MyLogger:Log message number 772\n",
            "DEBUG:MyLogger:Log message number 773\n",
            "DEBUG:MyLogger:Log message number 774\n",
            "DEBUG:MyLogger:Log message number 775\n",
            "DEBUG:MyLogger:Log message number 776\n",
            "DEBUG:MyLogger:Log message number 777\n",
            "DEBUG:MyLogger:Log message number 778\n",
            "DEBUG:MyLogger:Log message number 779\n",
            "DEBUG:MyLogger:Log message number 780\n",
            "DEBUG:MyLogger:Log message number 781\n",
            "DEBUG:MyLogger:Log message number 782\n",
            "DEBUG:MyLogger:Log message number 783\n",
            "DEBUG:MyLogger:Log message number 784\n",
            "DEBUG:MyLogger:Log message number 785\n",
            "DEBUG:MyLogger:Log message number 786\n",
            "DEBUG:MyLogger:Log message number 787\n",
            "DEBUG:MyLogger:Log message number 788\n",
            "DEBUG:MyLogger:Log message number 789\n",
            "DEBUG:MyLogger:Log message number 790\n",
            "DEBUG:MyLogger:Log message number 791\n",
            "DEBUG:MyLogger:Log message number 792\n",
            "DEBUG:MyLogger:Log message number 793\n",
            "DEBUG:MyLogger:Log message number 794\n",
            "DEBUG:MyLogger:Log message number 795\n",
            "DEBUG:MyLogger:Log message number 796\n",
            "DEBUG:MyLogger:Log message number 797\n",
            "DEBUG:MyLogger:Log message number 798\n",
            "DEBUG:MyLogger:Log message number 799\n",
            "DEBUG:MyLogger:Log message number 800\n",
            "DEBUG:MyLogger:Log message number 801\n",
            "DEBUG:MyLogger:Log message number 802\n",
            "DEBUG:MyLogger:Log message number 803\n",
            "DEBUG:MyLogger:Log message number 804\n",
            "DEBUG:MyLogger:Log message number 805\n",
            "DEBUG:MyLogger:Log message number 806\n",
            "DEBUG:MyLogger:Log message number 807\n",
            "DEBUG:MyLogger:Log message number 808\n",
            "DEBUG:MyLogger:Log message number 809\n",
            "DEBUG:MyLogger:Log message number 810\n",
            "DEBUG:MyLogger:Log message number 811\n",
            "DEBUG:MyLogger:Log message number 812\n",
            "DEBUG:MyLogger:Log message number 813\n",
            "DEBUG:MyLogger:Log message number 814\n",
            "DEBUG:MyLogger:Log message number 815\n",
            "DEBUG:MyLogger:Log message number 816\n",
            "DEBUG:MyLogger:Log message number 817\n",
            "DEBUG:MyLogger:Log message number 818\n",
            "DEBUG:MyLogger:Log message number 819\n",
            "DEBUG:MyLogger:Log message number 820\n",
            "DEBUG:MyLogger:Log message number 821\n",
            "DEBUG:MyLogger:Log message number 822\n",
            "DEBUG:MyLogger:Log message number 823\n",
            "DEBUG:MyLogger:Log message number 824\n",
            "DEBUG:MyLogger:Log message number 825\n",
            "DEBUG:MyLogger:Log message number 826\n",
            "DEBUG:MyLogger:Log message number 827\n",
            "DEBUG:MyLogger:Log message number 828\n",
            "DEBUG:MyLogger:Log message number 829\n",
            "DEBUG:MyLogger:Log message number 830\n",
            "DEBUG:MyLogger:Log message number 831\n",
            "DEBUG:MyLogger:Log message number 832\n",
            "DEBUG:MyLogger:Log message number 833\n",
            "DEBUG:MyLogger:Log message number 834\n",
            "DEBUG:MyLogger:Log message number 835\n",
            "DEBUG:MyLogger:Log message number 836\n",
            "DEBUG:MyLogger:Log message number 837\n",
            "DEBUG:MyLogger:Log message number 838\n",
            "DEBUG:MyLogger:Log message number 839\n",
            "DEBUG:MyLogger:Log message number 840\n",
            "DEBUG:MyLogger:Log message number 841\n",
            "DEBUG:MyLogger:Log message number 842\n",
            "DEBUG:MyLogger:Log message number 843\n",
            "DEBUG:MyLogger:Log message number 844\n",
            "DEBUG:MyLogger:Log message number 845\n",
            "DEBUG:MyLogger:Log message number 846\n",
            "DEBUG:MyLogger:Log message number 847\n",
            "DEBUG:MyLogger:Log message number 848\n",
            "DEBUG:MyLogger:Log message number 849\n",
            "DEBUG:MyLogger:Log message number 850\n",
            "DEBUG:MyLogger:Log message number 851\n",
            "DEBUG:MyLogger:Log message number 852\n",
            "DEBUG:MyLogger:Log message number 853\n",
            "DEBUG:MyLogger:Log message number 854\n",
            "DEBUG:MyLogger:Log message number 855\n",
            "DEBUG:MyLogger:Log message number 856\n",
            "DEBUG:MyLogger:Log message number 857\n",
            "DEBUG:MyLogger:Log message number 858\n",
            "DEBUG:MyLogger:Log message number 859\n",
            "DEBUG:MyLogger:Log message number 860\n",
            "DEBUG:MyLogger:Log message number 861\n",
            "DEBUG:MyLogger:Log message number 862\n",
            "DEBUG:MyLogger:Log message number 863\n",
            "DEBUG:MyLogger:Log message number 864\n",
            "DEBUG:MyLogger:Log message number 865\n",
            "DEBUG:MyLogger:Log message number 866\n",
            "DEBUG:MyLogger:Log message number 867\n",
            "DEBUG:MyLogger:Log message number 868\n",
            "DEBUG:MyLogger:Log message number 869\n",
            "DEBUG:MyLogger:Log message number 870\n",
            "DEBUG:MyLogger:Log message number 871\n",
            "DEBUG:MyLogger:Log message number 872\n",
            "DEBUG:MyLogger:Log message number 873\n",
            "DEBUG:MyLogger:Log message number 874\n",
            "DEBUG:MyLogger:Log message number 875\n",
            "DEBUG:MyLogger:Log message number 876\n",
            "DEBUG:MyLogger:Log message number 877\n",
            "DEBUG:MyLogger:Log message number 878\n",
            "DEBUG:MyLogger:Log message number 879\n",
            "DEBUG:MyLogger:Log message number 880\n",
            "DEBUG:MyLogger:Log message number 881\n",
            "DEBUG:MyLogger:Log message number 882\n",
            "DEBUG:MyLogger:Log message number 883\n",
            "DEBUG:MyLogger:Log message number 884\n",
            "DEBUG:MyLogger:Log message number 885\n",
            "DEBUG:MyLogger:Log message number 886\n",
            "DEBUG:MyLogger:Log message number 887\n",
            "DEBUG:MyLogger:Log message number 888\n",
            "DEBUG:MyLogger:Log message number 889\n",
            "DEBUG:MyLogger:Log message number 890\n",
            "DEBUG:MyLogger:Log message number 891\n",
            "DEBUG:MyLogger:Log message number 892\n",
            "DEBUG:MyLogger:Log message number 893\n",
            "DEBUG:MyLogger:Log message number 894\n",
            "DEBUG:MyLogger:Log message number 895\n",
            "DEBUG:MyLogger:Log message number 896\n",
            "DEBUG:MyLogger:Log message number 897\n",
            "DEBUG:MyLogger:Log message number 898\n",
            "DEBUG:MyLogger:Log message number 899\n",
            "DEBUG:MyLogger:Log message number 900\n",
            "DEBUG:MyLogger:Log message number 901\n",
            "DEBUG:MyLogger:Log message number 902\n",
            "DEBUG:MyLogger:Log message number 903\n",
            "DEBUG:MyLogger:Log message number 904\n",
            "DEBUG:MyLogger:Log message number 905\n",
            "DEBUG:MyLogger:Log message number 906\n",
            "DEBUG:MyLogger:Log message number 907\n",
            "DEBUG:MyLogger:Log message number 908\n",
            "DEBUG:MyLogger:Log message number 909\n",
            "DEBUG:MyLogger:Log message number 910\n",
            "DEBUG:MyLogger:Log message number 911\n",
            "DEBUG:MyLogger:Log message number 912\n",
            "DEBUG:MyLogger:Log message number 913\n",
            "DEBUG:MyLogger:Log message number 914\n",
            "DEBUG:MyLogger:Log message number 915\n",
            "DEBUG:MyLogger:Log message number 916\n",
            "DEBUG:MyLogger:Log message number 917\n",
            "DEBUG:MyLogger:Log message number 918\n",
            "DEBUG:MyLogger:Log message number 919\n",
            "DEBUG:MyLogger:Log message number 920\n",
            "DEBUG:MyLogger:Log message number 921\n",
            "DEBUG:MyLogger:Log message number 922\n",
            "DEBUG:MyLogger:Log message number 923\n",
            "DEBUG:MyLogger:Log message number 924\n",
            "DEBUG:MyLogger:Log message number 925\n",
            "DEBUG:MyLogger:Log message number 926\n",
            "DEBUG:MyLogger:Log message number 927\n",
            "DEBUG:MyLogger:Log message number 928\n",
            "DEBUG:MyLogger:Log message number 929\n",
            "DEBUG:MyLogger:Log message number 930\n",
            "DEBUG:MyLogger:Log message number 931\n",
            "DEBUG:MyLogger:Log message number 932\n",
            "DEBUG:MyLogger:Log message number 933\n",
            "DEBUG:MyLogger:Log message number 934\n",
            "DEBUG:MyLogger:Log message number 935\n",
            "DEBUG:MyLogger:Log message number 936\n",
            "DEBUG:MyLogger:Log message number 937\n",
            "DEBUG:MyLogger:Log message number 938\n",
            "DEBUG:MyLogger:Log message number 939\n",
            "DEBUG:MyLogger:Log message number 940\n",
            "DEBUG:MyLogger:Log message number 941\n",
            "DEBUG:MyLogger:Log message number 942\n",
            "DEBUG:MyLogger:Log message number 943\n",
            "DEBUG:MyLogger:Log message number 944\n",
            "DEBUG:MyLogger:Log message number 945\n",
            "DEBUG:MyLogger:Log message number 946\n",
            "DEBUG:MyLogger:Log message number 947\n",
            "DEBUG:MyLogger:Log message number 948\n",
            "DEBUG:MyLogger:Log message number 949\n",
            "DEBUG:MyLogger:Log message number 950\n",
            "DEBUG:MyLogger:Log message number 951\n",
            "DEBUG:MyLogger:Log message number 952\n",
            "DEBUG:MyLogger:Log message number 953\n",
            "DEBUG:MyLogger:Log message number 954\n",
            "DEBUG:MyLogger:Log message number 955\n",
            "DEBUG:MyLogger:Log message number 956\n",
            "DEBUG:MyLogger:Log message number 957\n",
            "DEBUG:MyLogger:Log message number 958\n",
            "DEBUG:MyLogger:Log message number 959\n",
            "DEBUG:MyLogger:Log message number 960\n",
            "DEBUG:MyLogger:Log message number 961\n",
            "DEBUG:MyLogger:Log message number 962\n",
            "DEBUG:MyLogger:Log message number 963\n",
            "DEBUG:MyLogger:Log message number 964\n",
            "DEBUG:MyLogger:Log message number 965\n",
            "DEBUG:MyLogger:Log message number 966\n",
            "DEBUG:MyLogger:Log message number 967\n",
            "DEBUG:MyLogger:Log message number 968\n",
            "DEBUG:MyLogger:Log message number 969\n",
            "DEBUG:MyLogger:Log message number 970\n",
            "DEBUG:MyLogger:Log message number 971\n",
            "DEBUG:MyLogger:Log message number 972\n",
            "DEBUG:MyLogger:Log message number 973\n",
            "DEBUG:MyLogger:Log message number 974\n",
            "DEBUG:MyLogger:Log message number 975\n",
            "DEBUG:MyLogger:Log message number 976\n",
            "DEBUG:MyLogger:Log message number 977\n",
            "DEBUG:MyLogger:Log message number 978\n",
            "DEBUG:MyLogger:Log message number 979\n",
            "DEBUG:MyLogger:Log message number 980\n",
            "DEBUG:MyLogger:Log message number 981\n",
            "DEBUG:MyLogger:Log message number 982\n",
            "DEBUG:MyLogger:Log message number 983\n",
            "DEBUG:MyLogger:Log message number 984\n",
            "DEBUG:MyLogger:Log message number 985\n",
            "DEBUG:MyLogger:Log message number 986\n",
            "DEBUG:MyLogger:Log message number 987\n",
            "DEBUG:MyLogger:Log message number 988\n",
            "DEBUG:MyLogger:Log message number 989\n",
            "DEBUG:MyLogger:Log message number 990\n",
            "DEBUG:MyLogger:Log message number 991\n",
            "DEBUG:MyLogger:Log message number 992\n",
            "DEBUG:MyLogger:Log message number 993\n",
            "DEBUG:MyLogger:Log message number 994\n",
            "DEBUG:MyLogger:Log message number 995\n",
            "DEBUG:MyLogger:Log message number 996\n",
            "DEBUG:MyLogger:Log message number 997\n",
            "DEBUG:MyLogger:Log message number 998\n",
            "DEBUG:MyLogger:Log message number 999\n"
          ]
        }
      ]
    },
    {
      "cell_type": "markdown",
      "source": [
        "19. Write a program that handles both IndexError and KeyError using a try-except block?"
      ],
      "metadata": {
        "id": "ewcfMOVoafJc"
      }
    },
    {
      "cell_type": "code",
      "source": [
        "try:\n",
        "    my_list = [1, 2, 3]\n",
        "    value = my_list[5]  # IndexError\n",
        "except IndexError:\n",
        "    print(\"Error: Index out of range.\")\n",
        "except KeyError:\n",
        "    print(\"Error: Key not found in the dictionary.\")\n"
      ],
      "metadata": {
        "colab": {
          "base_uri": "https://localhost:8080/"
        },
        "id": "OHEZxFjUZzof",
        "outputId": "32772b3e-7152-4135-bb4f-fc262e49e2ea"
      },
      "execution_count": 39,
      "outputs": [
        {
          "output_type": "stream",
          "name": "stdout",
          "text": [
            "Error: Index out of range.\n"
          ]
        }
      ]
    },
    {
      "cell_type": "markdown",
      "source": [
        "20. How would you open a file and read its contents using a context manager in Python?"
      ],
      "metadata": {
        "id": "55FXwzzdbnKa"
      }
    },
    {
      "cell_type": "code",
      "source": [
        "with open(\"example.txt\", \"r\") as file:\n",
        "    content = file.read()\n",
        "    print(content)"
      ],
      "metadata": {
        "colab": {
          "base_uri": "https://localhost:8080/"
        },
        "id": "Snw-5HY1bMP2",
        "outputId": "c49ffd1e-8e11-41db-96c5-dc1cd41ce3b2"
      },
      "execution_count": 46,
      "outputs": [
        {
          "output_type": "stream",
          "name": "stdout",
          "text": [
            "Hello, World!\n"
          ]
        }
      ]
    },
    {
      "cell_type": "markdown",
      "source": [
        "21. Write a Python program that reads a file and prints the number of occurrences of a specific word?"
      ],
      "metadata": {
        "id": "9ZJjG0qtcL-v"
      }
    },
    {
      "cell_type": "code",
      "source": [
        "word_to_count = \"Python\"\n",
        "\n",
        "with open(\"example.txt\", \"r\") as file:\n",
        "    content = file.read()\n",
        "    word_count = content.lower().count(word_to_count.lower())\n",
        "    print(f\"The word '{word_to_count}' appears {word_count} times in the file.\")"
      ],
      "metadata": {
        "colab": {
          "base_uri": "https://localhost:8080/"
        },
        "id": "tWyfyvVIbsax",
        "outputId": "c0e61fd6-b369-474f-ba42-d979616e1f50"
      },
      "execution_count": 48,
      "outputs": [
        {
          "output_type": "stream",
          "name": "stdout",
          "text": [
            "The word 'Python' appears 0 times in the file.\n"
          ]
        }
      ]
    },
    {
      "cell_type": "markdown",
      "source": [
        "22. How can you check if a file is empty before attempting to read its contents?"
      ],
      "metadata": {
        "id": "sWhYE4-1ccBR"
      }
    },
    {
      "cell_type": "code",
      "source": [
        "import os\n",
        "\n",
        "filename = \"example.txt\"\n",
        "\n",
        "# Check if file exists and is not empty\n",
        "if os.path.exists(filename) and os.path.getsize(filename) > 0:\n",
        "    with open(filename, \"r\") as file:\n",
        "        content = file.read()\n",
        "        print(\"File content:\\n\", content)\n",
        "else:\n",
        "    print(\"The file is empty or does not exist.\")\n"
      ],
      "metadata": {
        "colab": {
          "base_uri": "https://localhost:8080/"
        },
        "id": "Y5kwbwm4cWq7",
        "outputId": "7d0a3e5a-f7e8-473a-d16d-001a4e9fbc1e"
      },
      "execution_count": 51,
      "outputs": [
        {
          "output_type": "stream",
          "name": "stdout",
          "text": [
            "File content:\n",
            " Hello, World!\n"
          ]
        }
      ]
    },
    {
      "cell_type": "markdown",
      "source": [
        "23. Write a Python program that writes to a log file when an error occurs during file handling?"
      ],
      "metadata": {
        "id": "xO73lskTc1aJ"
      }
    },
    {
      "cell_type": "code",
      "source": [
        "import logging\n",
        "\n",
        "logging.basicConfig(filename=\"error_log.txt\", level=logging.ERROR)\n",
        "\n",
        "try:\n",
        "    with open(\"non_existent_file.txt\", \"r\") as file:\n",
        "        content = file.read()\n",
        "        print(\"File content:\", content)\n",
        "except FileNotFoundError:\n",
        "    logging.error(\"Error: The file does not exist.\")\n",
        "except Exception as e:\n",
        "    logging.error(f\"An error occurred: {str(e)}\")"
      ],
      "metadata": {
        "colab": {
          "base_uri": "https://localhost:8080/"
        },
        "id": "tOSG-rBgcfQI",
        "outputId": "fae7686c-1c85-41c2-eb15-cf7beb5fb24c"
      },
      "execution_count": 54,
      "outputs": [
        {
          "output_type": "stream",
          "name": "stderr",
          "text": [
            "ERROR:root:Error: The file does not exist.\n"
          ]
        }
      ]
    }
  ]
}